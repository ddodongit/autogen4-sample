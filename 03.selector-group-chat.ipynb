{
    "cells": [
        {
            "cell_type": "markdown",
            "metadata": {},
            "source": [
                "# Selector Group Chat"
            ]
        },
        {
            "cell_type": "markdown",
            "metadata": {},
            "source": [
                "{py:class}`~autogen_agentchat.teams.SelectorGroupChat`는 참가자들이 차례로 다른 모든 멤버에게 메시지를 방송하는 팀을 구현합니다. 생성 모델(예: LLM)이 공유된 컨텍스트를 기반으로 다음 발언자를 선택하여 동적이고 컨텍스트 인식 협업을 가능하게 합니다.\n",
                "\n",
                "주요 기능:\n",
                "\n",
                "- 모델 기반 발언자 선택\n",
                "- 구성 가능한 참가자 역할 및 설명\n",
                "- 동일한 발언자의 연속 발언 방지 (선택 사항)\n",
                "- 사용자 정의 선택 프롬프트\n",
                "- 기본 모델 기반 선택을 재정의하는 사용자 정의 선택 함수\n",
                "- 모델을 사용하여 선택할 에이전트 세트를 좁히는 사용자 정의 후보 함수\n",
                "\n",
                "```{note}\n",
                "{py:class}`~autogen_agentchat.teams.SelectorGroupChat`는 고수준 API입니다. 더 많은 제어와 커스터마이징이 필요한 경우, 코어 API 문서의 [그룹 채팅 패턴](../core-user-guide/design-patterns/group-chat.ipynb)을 참조하여 자체 그룹 채팅 로직을 구현하세요.\n",
                "```\n",
                "\n",
                "## 어떻게 작동하나요?\n",
                "\n",
                "{py:class}`~autogen_agentchat.teams.SelectorGroupChat`는 {py:class}`~autogen_agentchat.teams.RoundRobinGroupChat`와 유사한 그룹 채팅이지만, 모델 기반 다음 발언자 선택 메커니즘을 사용합니다.\n",
                "팀이 {py:meth}`~autogen_agentchat.teams.BaseGroupChat.run` 또는 {py:meth}`~autogen_agentchat.teams.BaseGroupChat.run_stream`을 통해 작업을 받으면, 다음 단계가 실행됩니다:\n",
                "\n",
                "1. 팀은 대화 기록과 참가자들의 {py:attr}`~autogen_agentchat.base.ChatAgent.name` 및 {py:attr}`~autogen_agentchat.base.ChatAgent.description` 속성을 포함한 현재 대화 컨텍스트를 분석하여 모델을 사용해 다음 발언자를 결정합니다. 기본적으로 팀은 사용 가능한 에이전트가 하나뿐이 아닌 이상 동일한 발언자를 연속으로 선택하지 않습니다. 이는 `allow_repeated_speaker=True`로 설정하여 변경할 수 있습니다. 사용자 정의 선택 함수를 제공하여 모델을 재정의할 수도 있습니다.\n",
                "2. 팀은 선택된 발언자 에이전트에게 응답을 요청하고, 이는 다른 모든 참가자에게 **방송**됩니다.\n",
                "3. 대화가 끝나야 하는지 종료 조건을 확인하고, 그렇지 않다면 1단계부터 과정을 반복합니다.\n",
                "4. 대화가 끝나면 팀은 이 작업의 대화 기록을 포함한 {py:class}`~autogen_agentchat.base.TaskResult`를 반환합니다.\n",
                "\n",
                "팀이 작업을 완료하면 대화 컨텍스트는 팀과 모든 참가자에게 유지되므로, 다음 작업은 이전 대화 컨텍스트에서 계속할 수 있습니다.\n",
                "{py:meth}`~autogen_agentchat.teams.BaseGroupChat.reset`을 호출하여 대화 컨텍스트를 재설정할 수 있습니다.\n",
                "\n",
                "이 섹션에서는 웹 검색 및 데이터 분석 작업의 간단한 예제로 {py:class}`~autogen_agentchat.teams.SelectorGroupChat`를 사용하는 방법을 보여드리겠습니다."
            ]
        },
        {
            "cell_type": "markdown",
            "metadata": {},
            "source": [
                "## 예제: 웹 검색/분석"
            ]
        },
        {
            "cell_type": "code",
            "execution_count": 1,
            "metadata": {},
            "outputs": [],
            "source": [
                "from typing import List, Sequence\n",
                "\n",
                "from autogen_agentchat.agents import AssistantAgent, UserProxyAgent\n",
                "from autogen_agentchat.conditions import MaxMessageTermination, TextMentionTermination\n",
                "from autogen_agentchat.messages import BaseAgentEvent, BaseChatMessage\n",
                "from autogen_agentchat.teams import SelectorGroupChat\n",
                "from autogen_agentchat.ui import Console"
            ]
        },
        {
            "cell_type": "markdown",
            "metadata": {},
            "source": [
                "### 에이전트\n",
                "\n",
                "![선택자 그룹 채팅](images/selector-group-chat.svg)\n",
                "\n",
                "이 시스템은 세 개의 전문 에이전트를 사용합니다:\n",
                "\n",
                "- **계획 에이전트**: 복잡한 작업을 관리 가능한 하위 작업으로 나누는 전략적 조정자입니다.\n",
                "- **웹 검색 에이전트**: `search_web_tool`과 인터페이스하는 정보 검색 전문가입니다.\n",
                "- **데이터 분석 에이전트**: `percentage_change_tool`을 갖춘 계산 수행 전문 에이전트입니다."
            ]
        },
        {
            "cell_type": "markdown",
            "metadata": {},
            "source": [
                "`search_web_tool`과 `percentage_change_tool`은 에이전트가 작업을 수행하는 데 사용할 수 있는 외부 도구입니다."
            ]
        },
        {
            "cell_type": "code",
            "execution_count": 2,
            "metadata": {},
            "outputs": [],
            "source": [
                "# Note: This example uses mock tools instead of real APIs for demonstration purposes\n",
                "def search_web_tool(query: str) -> str:\n",
                "    if \"2006-2007\" in query:\n",
                "        return \"\"\"2006-2007 시즌 마이애미 히트 선수들이 득점한 총 득점은 다음과 같습니다:\n",
                "        우도니스 하슬렘: 844점\n",
                "        드웨인 웨이드: 1397점\n",
                "        제임스 포시: 550점\n",
                "        ...\n",
                "        \"\"\"\n",
                "    elif \"2007-2008\" in query:\n",
                "        return \"2007-2008시즌 마이애미 히트에서 드웨인 웨이드가 기록한 총 리바운드 수는 214개입니다.\"\n",
                "    elif \"2008-2009\" in query:\n",
                "        return \"2008-2009 시즌 마이애미 히트에서 드웨인 웨이드가 기록한 총 리바운드 수는 398개입니다.\"\n",
                "    return \"No data found.\"\n",
                "\n",
                "\n",
                "def percentage_change_tool(start: float, end: float) -> float:\n",
                "    return ((end - start) / start) * 100"
            ]
        },
        {
            "cell_type": "markdown",
            "metadata": {},
            "source": [
                "{py:class}`~autogen_agentchat.agents.AssistantAgent` 클래스를 사용하여 전문 에이전트를 생성해 보겠습니다.\n",
                "에이전트의 {py:attr}`~autogen_agentchat.base.ChatAgent.name` 및 {py:attr}`~autogen_agentchat.base.ChatAgent.description` 속성이 모델에서 다음 발언자를 결정하는 데 사용되므로, 의미있는 이름과 설명을 제공하는 것이 좋습니다."
            ]
        },
        {
            "cell_type": "code",
            "execution_count": 3,
            "metadata": {},
            "outputs": [],
            "source": [
                "from autogen_ext.models.openai import AzureOpenAIChatCompletionClient\n",
                "\n",
                "from dotenv import load_dotenv\n",
                "import os\n",
                "\n",
                "load_dotenv(override=True)\n",
                "\n",
                "api_version = os.getenv(\"AZURE_OPENAI_API_VERSION\")\n",
                "api_key = os.getenv(\"AZURE_OPENAI_API_KEY\")\n",
                "azure_endpoint = os.getenv(\"AZURE_OPENAI_ENDPOINT\")\n",
                "deployment_name = os.getenv(\"AZURE_OPENAI_DEPLOYMENT_NAME\")\n",
                "azure_openai_chat_completion_client = AzureOpenAIChatCompletionClient(\n",
                "            model=deployment_name,\n",
                "            azure_endpoint=azure_endpoint,\n",
                "            api_version=api_version,\n",
                "            api_key=api_key,\n",
                "        )\n",
                "\n",
                "model_client = azure_openai_chat_completion_client\n",
                "\n",
                "\n",
                "planning_agent = AssistantAgent(\n",
                "    \"PlanningAgent\",\n",
                "    description=\"An agent for planning tasks, this agent should be the first to engage when given a new task.\",\n",
                "    model_client=model_client,\n",
                "    system_message=\"\"\"\n",
                "    You are a planning agent.\n",
                "    Your job is to break down complex tasks into smaller, manageable subtasks.\n",
                "    Your team members are:\n",
                "        WebSearchAgent: Searches for information\n",
                "        DataAnalystAgent: Performs calculations\n",
                "\n",
                "    You only plan and delegate tasks - you do not execute them yourself.\n",
                "\n",
                "    When assigning tasks, use this format:\n",
                "    1. <agent> : <task>\n",
                "\n",
                "    After all tasks are complete, summarize the findings and end with \"TERMINATE\".\n",
                "    \"\"\",\n",
                ")\n",
                "\n",
                "web_search_agent = AssistantAgent(\n",
                "    \"WebSearchAgent\",\n",
                "    description=\"An agent for searching information on the web.\",\n",
                "    tools=[search_web_tool],\n",
                "    model_client=model_client,\n",
                "    system_message=\"\"\"\n",
                "    You are a web search agent.\n",
                "    Your only tool is search_tool - use it to find information.\n",
                "    You make only one search call at a time.\n",
                "    Once you have the results, you never do calculations based on them.\n",
                "    \"\"\",\n",
                ")\n",
                "\n",
                "data_analyst_agent = AssistantAgent(\n",
                "    \"DataAnalystAgent\",\n",
                "    description=\"An agent for performing calculations.\",\n",
                "    model_client=model_client,\n",
                "    tools=[percentage_change_tool],\n",
                "    system_message=\"\"\"\n",
                "    You are a data analyst.\n",
                "    Given the tasks you have been assigned, you should analyze the data and provide results using the tools provided.\n",
                "    If you have not seen the data, ask for it.\n",
                "    \"\"\",\n",
                ")"
            ]
        },
        {
            "cell_type": "markdown",
            "metadata": {},
            "source": [
                "```{note}\n",
                "기본적으로 {py:class}`~autogen_agentchat.agents.AssistantAgent`는 도구 출력을 응답으로 반환합니다. 도구가 자연어 형식으로 잘 구성된 문자열을 반환하지 않는 경우, 에이전트를 생성할 때 `reflect_on_tool_use=True`를 설정하여 에이전트 내에서 반성 단계를 추가할 수 있습니다. 이를 통해 에이전트가 도구 출력을 반성하고 자연어 응답을 제공할 수 있습니다.\n",
                "```"
            ]
        },
        {
            "cell_type": "markdown",
            "metadata": {},
            "source": [
                "### 워크플로우\n",
                "\n",
                "1. 작업이 {py:class}`~autogen_agentchat.teams.SelectorGroupChat`에 의해 수신되면, 에이전트 설명을 기반으로 초기 작업을 처리할 가장 적절한 에이전트(일반적으로 계획 에이전트)를 선택합니다.\n",
                "\n",
                "2. **계획 에이전트**는 작업을 분석하고 하위 작업으로 나누어 다음 형식을 사용하여 각각을 가장 적절한 에이전트에 할당합니다:\n",
                "   `<에이전트> : <작업>`\n",
                "\n",
                "3. 대화 컨텍스트와 에이전트 설명을 기반으로 {py:class}`~autogen_agent.teams.SelectorGroupChat` 관리자가 할당된 하위 작업을 처리할 다음 에이전트를 동적으로 선택합니다.\n",
                "\n",
                "4. **웹 검색 에이전트**는 한 번에 하나씩 검색을 수행하고 결과를 공유 대화 기록에 저장합니다.\n",
                "\n",
                "5. **데이터 분석자**는 선택되었을 때 사용 가능한 계산 도구를 사용하여 수집된 정보를 처리합니다.\n",
                "\n",
                "6. 다음 중 하나가 발생할 때까지 에이전트가 동적으로 선택되면서 워크플로우가 계속됩니다:\n",
                "   - 계획 에이전트가 모든 하위 작업이 완료되었다고 판단하고 \"TERMINATE\"를 보냄\n",
                "   - 대안적인 종료 조건이 충족됨 (예: 최대 메시지 수)\n",
                "\n",
                "에이전트를 정의할 때 다음에 선택할 에이전트를 결정하는 데 사용되므로 도움이 되는 {py:attr}`~autogen_agentchat.base.ChatAgent.description`을 포함해야 합니다."
            ]
        },
        {
            "cell_type": "markdown",
            "metadata": {},
            "source": [
                "### 종료 조건\n",
                "\n",
                "두 가지 종료 조건을 사용해 보겠습니다:\n",
                "계획 에이전트가 \"TERMINATE\"를 보낼 때 대화를 종료하는 {py:class}`~autogen_agentchat.conditions.TextMentionTermination`과 무한 루프를 방지하기 위해 대화를 25개 메시지로 제한하는 {py:class}`~autogen_agentchat.conditions.MaxMessageTermination`입니다."
            ]
        },
        {
            "cell_type": "code",
            "execution_count": 4,
            "metadata": {},
            "outputs": [],
            "source": [
                "text_mention_termination = TextMentionTermination(\"TERMINATE\")\n",
                "max_messages_termination = MaxMessageTermination(max_messages=25)\n",
                "termination = text_mention_termination | max_messages_termination"
            ]
        },
        {
            "cell_type": "markdown",
            "metadata": {},
            "source": [
                "### 선택자 프롬프트\n",
                "\n",
                "{py:class}`~autogen_agentchat.teams.SelectorGroupChat`는 대화 컨텍스트를 기반으로 다음 발언자를 선택하기 위해 모델을 사용합니다.\n",
                "워크플로우와 적절히 정렬하기 위해 사용자 정의 선택자 프롬프트를 사용하겠습니다."
            ]
        },
        {
            "cell_type": "code",
            "execution_count": 5,
            "metadata": {},
            "outputs": [],
            "source": [
                "selector_prompt = \"\"\"Select an agent to perform task.\n",
                "\n",
                "{roles}\n",
                "\n",
                "Current conversation context:\n",
                "{history}\n",
                "\n",
                "Read the above conversation, then select an agent from {participants} to perform the next task.\n",
                "Make sure the planner agent has assigned tasks before other agents start working.\n",
                "Only select one agent.\n",
                "\"\"\""
            ]
        },
        {
            "cell_type": "markdown",
            "metadata": {},
            "source": [
                "선택자 프롬프트에서 사용할 수 있는 문자열 변수들:\n",
                "- `{participants}`: 선택 후보의 이름들. 형식은 `[\"<이름1>\", \"<이름2>\", ...]`입니다.\n",
                "- `{roles}`: 후보 에이전트의 이름과 설명을 줄바꿈으로 구분한 목록. 각 줄의 형식은: `\"<이름> : <설명>\"`입니다.\n",
                "- `{history}`: 이름과 메시지 내용의 이중 줄바꿈으로 구분하여 형식화된 대화 기록. 각 메시지의 형식은: `\"<이름> : <메시지 내용>\"`입니다.\n",
                "\n",
                "```{tip}\n",
                "선택자 프롬프트에서 모델에 너무 많은 지시사항을 주지 않도록 하세요.\n",
                "\n",
                "너무 많다는 것은 무엇인가요? 사용하는 모델의 기능에 따라 다릅니다.\n",
                "GPT-4o와 동급 모델의 경우, 각 발언자가 언제 선택되어야 하는지에 대한 조건이 있는 선택자 프롬프트를 사용할 수 있습니다.\n",
                "Phi-4와 같은 더 작은 모델의 경우, 이 예제에서 사용된 것과 같이 선택자 프롬프트를 가능한 한 간단하게 유지해야 합니다.\n",
                "\n",
                "일반적으로 각 에이전트에 대해 여러 조건을 작성하고 있다면, 사용자 정의 선택 함수를 사용하거나 작업을 별도의 에이전트나 팀에서 처리할 더 작은 순차적 작업으로 나누는 것을 고려해야 한다는 신호입니다.\n",
                "```"
            ]
        },
        {
            "cell_type": "markdown",
            "metadata": {},
            "source": [
                "### 팀 실행\n",
                "\n",
                "에이전트, 종료 조건, 사용자 정의 선택자 프롬프트로 팀을 생성해 보겠습니다."
            ]
        },
        {
            "cell_type": "code",
            "execution_count": 6,
            "metadata": {},
            "outputs": [],
            "source": [
                "team = SelectorGroupChat(\n",
                "    [planning_agent, web_search_agent, data_analyst_agent],\n",
                "    model_client=model_client,\n",
                "    termination_condition=termination,\n",
                "    selector_prompt=selector_prompt,\n",
                "    allow_repeated_speaker=True,  # Allow an agent to speak multiple turns in a row.\n",
                ")"
            ]
        },
        {
            "cell_type": "markdown",
            "metadata": {},
            "source": [
                "이제 NBA 선수에 대한 정보를 찾는 작업으로 팀을 실행합니다."
            ]
        },
        {
            "cell_type": "code",
            "execution_count": 7,
            "metadata": {},
            "outputs": [],
            "source": [
                "task = \"2006-2007 시즌에 가장 많은 득점을 기록한 마이애미 히트 선수는 누구이며, 2007-2008 시즌과 2008-2009 시즌의 총 리바운드 변화율은 얼마였나요?\""
            ]
        },
        {
            "cell_type": "code",
            "execution_count": 8,
            "metadata": {},
            "outputs": [
                {
                    "name": "stdout",
                    "output_type": "stream",
                    "text": [
                        "---------- TextMessage (user) ----------\n",
                        "2006-2007 시즌에 가장 많은 득점을 기록한 마이애미 히트 선수는 누구이며, 2007-2008 시즌과 2008-2009 시즌의 총 리바운드 변화율은 얼마였나요?\n",
                        "---------- TextMessage (PlanningAgent) ----------\n",
                        "1. WebSearchAgent: 2006-2007 시즌 마이애미 히트 팀에서 가장 많은 득점을 기록한 선수를 찾기.\n",
                        "2. WebSearchAgent: 2007-2008 시즌과 2008-2009 시즌 마이애미 히트 팀 전체 리바운드 데이터를 수집하기.\n",
                        "3. DataAnalystAgent: 2007-2008 시즌과 2008-2009 시즌의 마이애미 히트 팀 총 리바운드 변화율을 계산하기.\n",
                        "---------- ToolCallRequestEvent (WebSearchAgent) ----------\n",
                        "[FunctionCall(id='call_AuJik32Klw2qwXSrTGfN4RGe', arguments='{\"query\": \"2006-2007 마이애미 히트 가장 많은 득점 선수\"}', name='search_web_tool'), FunctionCall(id='call_6YxqeOI4M8V639d78BjO6aAT', arguments='{\"query\": \"2007-2008 마이애미 히트 총 리바운드\"}', name='search_web_tool'), FunctionCall(id='call_i3hTwbH7Am4357C2Yog9zlLv', arguments='{\"query\": \"2008-2009 마이애미 히트 총 리바운드\"}', name='search_web_tool')]\n",
                        "---------- ToolCallExecutionEvent (WebSearchAgent) ----------\n",
                        "[FunctionExecutionResult(content='2006-2007 시즌 마이애미 히트 선수들이 득점한 총 득점은 다음과 같습니다:\\n        우도니스 하슬렘: 844점\\n        드웨인 웨이드: 1397점\\n        제임스 포시: 550점\\n        ...\\n        ', name='search_web_tool', call_id='call_AuJik32Klw2qwXSrTGfN4RGe', is_error=False), FunctionExecutionResult(content='2007-2008시즌 마이애미 히트에서 드웨인 웨이드가 기록한 총 리바운드 수는 214개입니다.', name='search_web_tool', call_id='call_6YxqeOI4M8V639d78BjO6aAT', is_error=False), FunctionExecutionResult(content='2008-2009 시즌 마이애미 히트에서 드웨인 웨이드가 기록한 총 리바운드 수는 398개입니다.', name='search_web_tool', call_id='call_i3hTwbH7Am4357C2Yog9zlLv', is_error=False)]\n",
                        "---------- ToolCallSummaryMessage (WebSearchAgent) ----------\n",
                        "2006-2007 시즌 마이애미 히트 선수들이 득점한 총 득점은 다음과 같습니다:\n",
                        "        우도니스 하슬렘: 844점\n",
                        "        드웨인 웨이드: 1397점\n",
                        "        제임스 포시: 550점\n",
                        "        ...\n",
                        "        \n",
                        "2007-2008시즌 마이애미 히트에서 드웨인 웨이드가 기록한 총 리바운드 수는 214개입니다.\n",
                        "2008-2009 시즌 마이애미 히트에서 드웨인 웨이드가 기록한 총 리바운드 수는 398개입니다.\n",
                        "---------- ToolCallRequestEvent (DataAnalystAgent) ----------\n",
                        "[FunctionCall(id='call_JuAL87Ki9J8CiRmAUr3NVXvC', arguments='{\"start\":214,\"end\":398}', name='percentage_change_tool')]\n",
                        "---------- ToolCallExecutionEvent (DataAnalystAgent) ----------\n",
                        "[FunctionExecutionResult(content='85.98130841121495', name='percentage_change_tool', call_id='call_JuAL87Ki9J8CiRmAUr3NVXvC', is_error=False)]\n",
                        "---------- ToolCallSummaryMessage (DataAnalystAgent) ----------\n",
                        "85.98130841121495\n",
                        "---------- TextMessage (PlanningAgent) ----------\n",
                        "1. DataAnalystAgent: 2007-2008 시즌과 2008-2009 시즌 마이애미 히트 팀 전체 리바운드 데이터를 재확인하고, 변화율 계산 방법과 결과를 자세히 검토하기.\n",
                        "\n",
                        "(이후 추가 데이터 수집이 필요할 경우 WebSearchAgent에게 맡길 수 있습니다.)\n",
                        "---------- TextMessage (WebSearchAgent) ----------\n",
                        "2006-2007 시즌 마이애미 히트에서 가장 많은 득점을 기록한 선수는 드웨인 웨이드(Dwyane Wade)입니다.\n",
                        "\n",
                        "2007-2008 시즌과 2008-2009 시즌의 마이애미 히트 총 리바운드는 각각 214개와 398개였습니다.\n",
                        "\n",
                        "여기에서 총 리바운드 변화율은 약 85.98%로 계산되었습니다.\n",
                        "\n",
                        "더 자세한 계산 방법이나 추가 확인이 필요하시면 알려주세요.\n",
                        "---------- TextMessage (DataAnalystAgent) ----------\n",
                        "2006-2007 시즌에 마이애미 히트에서 가장 많은 득점을 기록한 선수는 드웨인 웨이드(Dwyane Wade)입니다.\n",
                        "\n",
                        "2007-2008 시즌과 2008-2009 시즌의 마이애미 히트 총 리바운드는 각각 214개와 398개였으며, 이에 따른 총 리바운드 변화율은 약 85.98%입니다.\n",
                        "\n",
                        "필요하시면 계산 방법이나 추가 분석도 제공해드릴 수 있습니다.\n",
                        "---------- TextMessage (PlanningAgent) ----------\n",
                        "최종 결과를 정리하겠습니다.\n",
                        "\n",
                        "- 2006-2007 시즌 마이애미 히트에서 가장 많은 득점을 기록한 선수는 드웨인 웨이드(Dwyane Wade)입니다.\n",
                        "- 2007-2008 시즌과 2008-2009 시즌의 마이애미 히트 총 리바운드는 각각 214개와 398개였습니다.\n",
                        "- 이에 따른 총 리바운드 변화율은 약 85.98%로 계산되었습니다.\n",
                        "\n",
                        "필요시 계산 방법이나 추가 분석도 제공 가능합니다.\n",
                        "\n",
                        "TERMINATE\n"
                    ]
                },
                {
                    "data": {
                        "text/plain": [
                            "TaskResult(messages=[TextMessage(id='7a9bbe34-ccc1-4d9c-8717-cbec6b17bc1b', source='user', models_usage=None, metadata={}, created_at=datetime.datetime(2025, 7, 25, 8, 34, 54, 370349, tzinfo=datetime.timezone.utc), content='2006-2007 시즌에 가장 많은 득점을 기록한 마이애미 히트 선수는 누구이며, 2007-2008 시즌과 2008-2009 시즌의 총 리바운드 변화율은 얼마였나요?', type='TextMessage'), TextMessage(id='de14903a-9940-4187-80f8-044c6bacdc11', source='PlanningAgent', models_usage=RequestUsage(prompt_tokens=168, completion_tokens=116), metadata={}, created_at=datetime.datetime(2025, 7, 25, 8, 34, 57, 288336, tzinfo=datetime.timezone.utc), content='1. WebSearchAgent: 2006-2007 시즌 마이애미 히트 팀에서 가장 많은 득점을 기록한 선수를 찾기.\\n2. WebSearchAgent: 2007-2008 시즌과 2008-2009 시즌 마이애미 히트 팀 전체 리바운드 데이터를 수집하기.\\n3. DataAnalystAgent: 2007-2008 시즌과 2008-2009 시즌의 마이애미 히트 팀 총 리바운드 변화율을 계산하기.', type='TextMessage'), ToolCallRequestEvent(id='691c75b8-a91e-43eb-ba99-ec247d9f9876', source='WebSearchAgent', models_usage=RequestUsage(prompt_tokens=271, completion_tokens=111), metadata={}, created_at=datetime.datetime(2025, 7, 25, 8, 34, 59, 713765, tzinfo=datetime.timezone.utc), content=[FunctionCall(id='call_AuJik32Klw2qwXSrTGfN4RGe', arguments='{\"query\": \"2006-2007 마이애미 히트 가장 많은 득점 선수\"}', name='search_web_tool'), FunctionCall(id='call_6YxqeOI4M8V639d78BjO6aAT', arguments='{\"query\": \"2007-2008 마이애미 히트 총 리바운드\"}', name='search_web_tool'), FunctionCall(id='call_i3hTwbH7Am4357C2Yog9zlLv', arguments='{\"query\": \"2008-2009 마이애미 히트 총 리바운드\"}', name='search_web_tool')], type='ToolCallRequestEvent'), ToolCallExecutionEvent(id='f32f725c-1619-43d7-b670-bad66f0b67c8', source='WebSearchAgent', models_usage=None, metadata={}, created_at=datetime.datetime(2025, 7, 25, 8, 34, 59, 716535, tzinfo=datetime.timezone.utc), content=[FunctionExecutionResult(content='2006-2007 시즌 마이애미 히트 선수들이 득점한 총 득점은 다음과 같습니다:\\n        우도니스 하슬렘: 844점\\n        드웨인 웨이드: 1397점\\n        제임스 포시: 550점\\n        ...\\n        ', name='search_web_tool', call_id='call_AuJik32Klw2qwXSrTGfN4RGe', is_error=False), FunctionExecutionResult(content='2007-2008시즌 마이애미 히트에서 드웨인 웨이드가 기록한 총 리바운드 수는 214개입니다.', name='search_web_tool', call_id='call_6YxqeOI4M8V639d78BjO6aAT', is_error=False), FunctionExecutionResult(content='2008-2009 시즌 마이애미 히트에서 드웨인 웨이드가 기록한 총 리바운드 수는 398개입니다.', name='search_web_tool', call_id='call_i3hTwbH7Am4357C2Yog9zlLv', is_error=False)], type='ToolCallExecutionEvent'), ToolCallSummaryMessage(id='c09bfcdc-cbfd-4e6c-a0e3-a65d20052792', source='WebSearchAgent', models_usage=None, metadata={}, created_at=datetime.datetime(2025, 7, 25, 8, 34, 59, 716755, tzinfo=datetime.timezone.utc), content='2006-2007 시즌 마이애미 히트 선수들이 득점한 총 득점은 다음과 같습니다:\\n        우도니스 하슬렘: 844점\\n        드웨인 웨이드: 1397점\\n        제임스 포시: 550점\\n        ...\\n        \\n2007-2008시즌 마이애미 히트에서 드웨인 웨이드가 기록한 총 리바운드 수는 214개입니다.\\n2008-2009 시즌 마이애미 히트에서 드웨인 웨이드가 기록한 총 리바운드 수는 398개입니다.', type='ToolCallSummaryMessage', tool_calls=[FunctionCall(id='call_AuJik32Klw2qwXSrTGfN4RGe', arguments='{\"query\": \"2006-2007 마이애미 히트 가장 많은 득점 선수\"}', name='search_web_tool'), FunctionCall(id='call_6YxqeOI4M8V639d78BjO6aAT', arguments='{\"query\": \"2007-2008 마이애미 히트 총 리바운드\"}', name='search_web_tool'), FunctionCall(id='call_i3hTwbH7Am4357C2Yog9zlLv', arguments='{\"query\": \"2008-2009 마이애미 히트 총 리바운드\"}', name='search_web_tool')], results=[FunctionExecutionResult(content='2006-2007 시즌 마이애미 히트 선수들이 득점한 총 득점은 다음과 같습니다:\\n        우도니스 하슬렘: 844점\\n        드웨인 웨이드: 1397점\\n        제임스 포시: 550점\\n        ...\\n        ', name='search_web_tool', call_id='call_AuJik32Klw2qwXSrTGfN4RGe', is_error=False), FunctionExecutionResult(content='2007-2008시즌 마이애미 히트에서 드웨인 웨이드가 기록한 총 리바운드 수는 214개입니다.', name='search_web_tool', call_id='call_6YxqeOI4M8V639d78BjO6aAT', is_error=False), FunctionExecutionResult(content='2008-2009 시즌 마이애미 히트에서 드웨인 웨이드가 기록한 총 리바운드 수는 398개입니다.', name='search_web_tool', call_id='call_i3hTwbH7Am4357C2Yog9zlLv', is_error=False)]), ToolCallRequestEvent(id='1b2cbace-005f-4dc1-ba8e-2b1b0e1a40c0', source='DataAnalystAgent', models_usage=RequestUsage(prompt_tokens=421, completion_tokens=21), metadata={}, created_at=datetime.datetime(2025, 7, 25, 8, 35, 0, 729207, tzinfo=datetime.timezone.utc), content=[FunctionCall(id='call_JuAL87Ki9J8CiRmAUr3NVXvC', arguments='{\"start\":214,\"end\":398}', name='percentage_change_tool')], type='ToolCallRequestEvent'), ToolCallExecutionEvent(id='92e36301-a14f-4dbb-98f6-cd3019ad0324', source='DataAnalystAgent', models_usage=None, metadata={}, created_at=datetime.datetime(2025, 7, 25, 8, 35, 0, 730644, tzinfo=datetime.timezone.utc), content=[FunctionExecutionResult(content='85.98130841121495', name='percentage_change_tool', call_id='call_JuAL87Ki9J8CiRmAUr3NVXvC', is_error=False)], type='ToolCallExecutionEvent'), ToolCallSummaryMessage(id='e942562d-f996-43f9-ae34-9d79b576488f', source='DataAnalystAgent', models_usage=None, metadata={}, created_at=datetime.datetime(2025, 7, 25, 8, 35, 0, 730831, tzinfo=datetime.timezone.utc), content='85.98130841121495', type='ToolCallSummaryMessage', tool_calls=[FunctionCall(id='call_JuAL87Ki9J8CiRmAUr3NVXvC', arguments='{\"start\":214,\"end\":398}', name='percentage_change_tool')], results=[FunctionExecutionResult(content='85.98130841121495', name='percentage_change_tool', call_id='call_JuAL87Ki9J8CiRmAUr3NVXvC', is_error=False)]), TextMessage(id='4092297e-b458-43a5-a977-4e54979e8508', source='PlanningAgent', models_usage=RequestUsage(prompt_tokens=450, completion_tokens=75), metadata={}, created_at=datetime.datetime(2025, 7, 25, 8, 35, 2, 443869, tzinfo=datetime.timezone.utc), content='1. DataAnalystAgent: 2007-2008 시즌과 2008-2009 시즌 마이애미 히트 팀 전체 리바운드 데이터를 재확인하고, 변화율 계산 방법과 결과를 자세히 검토하기.\\n\\n(이후 추가 데이터 수집이 필요할 경우 WebSearchAgent에게 맡길 수 있습니다.)', type='TextMessage'), TextMessage(id='7dd94862-1997-4d18-bf18-41d6998250a1', source='WebSearchAgent', models_usage=RequestUsage(prompt_tokens=928, completion_tokens=111), metadata={}, created_at=datetime.datetime(2025, 7, 25, 8, 35, 5, 2792, tzinfo=datetime.timezone.utc), content='2006-2007 시즌 마이애미 히트에서 가장 많은 득점을 기록한 선수는 드웨인 웨이드(Dwyane Wade)입니다.\\n\\n2007-2008 시즌과 2008-2009 시즌의 마이애미 히트 총 리바운드는 각각 214개와 398개였습니다.\\n\\n여기에서 총 리바운드 변화율은 약 85.98%로 계산되었습니다.\\n\\n더 자세한 계산 방법이나 추가 확인이 필요하시면 알려주세요.', type='TextMessage'), TextMessage(id='1d25188f-b70a-4cd4-be9a-fe3561dc0fd2', source='DataAnalystAgent', models_usage=RequestUsage(prompt_tokens=655, completion_tokens=112), metadata={}, created_at=datetime.datetime(2025, 7, 25, 8, 35, 7, 443498, tzinfo=datetime.timezone.utc), content='2006-2007 시즌에 마이애미 히트에서 가장 많은 득점을 기록한 선수는 드웨인 웨이드(Dwyane Wade)입니다.\\n\\n2007-2008 시즌과 2008-2009 시즌의 마이애미 히트 총 리바운드는 각각 214개와 398개였으며, 이에 따른 총 리바운드 변화율은 약 85.98%입니다.\\n\\n필요하시면 계산 방법이나 추가 분석도 제공해드릴 수 있습니다.', type='TextMessage'), TextMessage(id='b70e1a44-2e60-487f-9a43-eeed4fba1ebe', source='PlanningAgent', models_usage=RequestUsage(prompt_tokens=764, completion_tokens=123), metadata={}, created_at=datetime.datetime(2025, 7, 25, 8, 35, 9, 796734, tzinfo=datetime.timezone.utc), content='최종 결과를 정리하겠습니다.\\n\\n- 2006-2007 시즌 마이애미 히트에서 가장 많은 득점을 기록한 선수는 드웨인 웨이드(Dwyane Wade)입니다.\\n- 2007-2008 시즌과 2008-2009 시즌의 마이애미 히트 총 리바운드는 각각 214개와 398개였습니다.\\n- 이에 따른 총 리바운드 변화율은 약 85.98%로 계산되었습니다.\\n\\n필요시 계산 방법이나 추가 분석도 제공 가능합니다.\\n\\nTERMINATE', type='TextMessage')], stop_reason=\"Text 'TERMINATE' mentioned\")"
                        ]
                    },
                    "execution_count": 8,
                    "metadata": {},
                    "output_type": "execute_result"
                }
            ],
            "source": [
                "# Use asyncio.run(...) if you are running this in a script.\n",
                "await Console(team.run_stream(task=task))"
            ]
        },
        {
            "cell_type": "markdown",
            "metadata": {},
            "source": [
                "보시다시피, 웹 검색 에이전트가 필요한 검색을 수행하고 데이터 분석 에이전트가 필요한 계산을 완료한 후, 드웨인 웨이드가 2006-2007 시즌에 마이애미 히트에서 가장 많은 득점을 한 선수이며, 2007-2008 시즌과 2008-2009 시즌 사이 그의 총 리바운드 변화율이 85.98%라는 것을 발견했습니다!"
            ]
        },
        {
            "cell_type": "markdown",
            "metadata": {},
            "source": [
                "## 사용자 정의 선택자 함수"
            ]
        },
        {
            "cell_type": "markdown",
            "metadata": {},
            "source": [
                "종종 선택 과정에 대한 더 나은 제어를 원합니다.\n",
                "이를 위해 기본 모델 기반 선택을 재정의하는 사용자 정의 선택자 함수로 `selector_func` 인수를 설정할 수 있습니다.\n",
                "이를 통해 더 복잡한 선택 로직과 상태 기반 전환을 구현할 수 있습니다.\n",
                "\n",
                "예를 들어, 전문 에이전트 이후에 진행 상황을 확인하기 위해 계획 에이전트가 즉시 발언하기를 원합니다.\n",
                "\n",
                "```{note}\n",
                "사용자 정의 선택자 함수에서 `None`을 반환하면 기본 모델 기반 선택을 사용합니다.\n",
                "``` \n",
                "\n",
                "```{note}\n",
                "사용자 정의 선택자 함수는 SelectorGroupChat 팀에서 `.dump_component()`가 호출될 때 [직렬화](https://microsoft.github.io/autogen/stable/user-guide/agentchat-user-guide/serialize-components.html)되지 않습니다. 사용자 정의 선택자 함수가 있는 팀 구성을 직렬화해야 하는 경우, 사용자 정의 워크플로우와 직렬화 로직을 구현하는 것을 고려하세요.\n",
                "```"
            ]
        },
        {
            "cell_type": "code",
            "execution_count": 9,
            "metadata": {},
            "outputs": [
                {
                    "name": "stdout",
                    "output_type": "stream",
                    "text": [
                        "---------- TextMessage (user) ----------\n",
                        "2006-2007 시즌에 가장 많은 득점을 기록한 마이애미 히트 선수는 누구이며, 2007-2008 시즌과 2008-2009 시즌의 총 리바운드 변화율은 얼마였나요?\n"
                    ]
                },
                {
                    "name": "stdout",
                    "output_type": "stream",
                    "text": [
                        "---------- TextMessage (PlanningAgent) ----------\n",
                        "1. WebSearchAgent: 2006-2007 시즌 마이애미 히트에서 가장 많은 득점을 기록한 선수 정보 검색\n",
                        "2. WebSearchAgent: 2007-2008 시즌과 2008-2009 시즌 마이애미 히트 선수들의 총 리바운드 데이터 수집\n",
                        "3. DataAnalystAgent: 2007-2008 시즌과 2008-2009 시즌 마이애미 히트 총 리바운드 변화율 계산\n",
                        "---------- ToolCallRequestEvent (WebSearchAgent) ----------\n",
                        "[FunctionCall(id='call_JSVS5CO4tqH40X51P81vHzD9', arguments='{\"query\":\"2006-2007 시즌 마이애미 히트 최고 득점 선수\"}', name='search_web_tool')]\n",
                        "---------- ToolCallExecutionEvent (WebSearchAgent) ----------\n",
                        "[FunctionExecutionResult(content='2006-2007 시즌 마이애미 히트 선수들이 득점한 총 득점은 다음과 같습니다:\\n        우도니스 하슬렘: 844점\\n        드웨인 웨이드: 1397점\\n        제임스 포시: 550점\\n        ...\\n        ', name='search_web_tool', call_id='call_JSVS5CO4tqH40X51P81vHzD9', is_error=False)]\n",
                        "---------- ToolCallSummaryMessage (WebSearchAgent) ----------\n",
                        "2006-2007 시즌 마이애미 히트 선수들이 득점한 총 득점은 다음과 같습니다:\n",
                        "        우도니스 하슬렘: 844점\n",
                        "        드웨인 웨이드: 1397점\n",
                        "        제임스 포시: 550점\n",
                        "        ...\n",
                        "        \n",
                        "---------- TextMessage (PlanningAgent) ----------\n",
                        "4. WebSearchAgent: 2007-2008 시즌과 2008-2009 시즌 마이애미 히트 선수들의 총 리바운드 통계 검색 요청 (리마인더)\n",
                        "5. DataAnalystAgent: 2007-2008 시즌과 2008-2009 시즌 마이애미 히트의 총 리바운드 변화율 계산\n",
                        "\n",
                        "(우선 2006-2007 시즌 최대 득점자: 드웨인 웨이드 - 1397점 확인 완료)\n",
                        "---------- ToolCallRequestEvent (WebSearchAgent) ----------\n",
                        "[FunctionCall(id='call_IPOPpmiaurtPU6AS5WiqktyK', arguments='{\"query\":\"2007-2008 시즌 마이애미 히트 팀 리바운드 총합과 2008-2009 시즌 마이애미 히트 팀 리바운드 총합\"}', name='search_web_tool')]\n",
                        "---------- ToolCallExecutionEvent (WebSearchAgent) ----------\n",
                        "[FunctionExecutionResult(content='2007-2008시즌 마이애미 히트에서 드웨인 웨이드가 기록한 총 리바운드 수는 214개입니다.', name='search_web_tool', call_id='call_IPOPpmiaurtPU6AS5WiqktyK', is_error=False)]\n",
                        "---------- ToolCallSummaryMessage (WebSearchAgent) ----------\n",
                        "2007-2008시즌 마이애미 히트에서 드웨인 웨이드가 기록한 총 리바운드 수는 214개입니다.\n",
                        "---------- TextMessage (PlanningAgent) ----------\n",
                        "6. WebSearchAgent: 2008-2009 시즌 마이애미 히트 선수들의 총 리바운드 데이터 중 드웨인 웨이드 리바운드 수 검색 요청\n",
                        "---------- ToolCallRequestEvent (WebSearchAgent) ----------\n",
                        "[FunctionCall(id='call_2s3xe1PWMhQ1yL9m6PO09CpQ', arguments='{\"query\":\"2008-2009 시즌 마이애미 히트 드웨인 웨이드 총 리바운드 수\"}', name='search_web_tool')]\n",
                        "---------- ToolCallExecutionEvent (WebSearchAgent) ----------\n",
                        "[FunctionExecutionResult(content='2008-2009 시즌 마이애미 히트에서 드웨인 웨이드가 기록한 총 리바운드 수는 398개입니다.', name='search_web_tool', call_id='call_2s3xe1PWMhQ1yL9m6PO09CpQ', is_error=False)]\n",
                        "---------- ToolCallSummaryMessage (WebSearchAgent) ----------\n",
                        "2008-2009 시즌 마이애미 히트에서 드웨인 웨이드가 기록한 총 리바운드 수는 398개입니다.\n",
                        "---------- TextMessage (PlanningAgent) ----------\n",
                        "7. DataAnalystAgent: 2007-2008 시즌과 2008-2009 시즌 마이애미 히트 드웨인 웨이드 총 리바운드 변화율 계산\n",
                        "\n",
                        "(수집 완료: \n",
                        "- 2006-2007 시즌 최다 득점자: 드웨인 웨이드(1397점)\n",
                        "- 2007-2008 시즌 리바운드: 214개\n",
                        "- 2008-2009 시즌 리바운드: 398개)\n",
                        "---------- ToolCallRequestEvent (DataAnalystAgent) ----------\n",
                        "[FunctionCall(id='call_kozD5Bxbt38W7fSbN9Aok5uu', arguments='{\"start\":214,\"end\":398}', name='percentage_change_tool')]\n",
                        "---------- ToolCallExecutionEvent (DataAnalystAgent) ----------\n",
                        "[FunctionExecutionResult(content='85.98130841121495', name='percentage_change_tool', call_id='call_kozD5Bxbt38W7fSbN9Aok5uu', is_error=False)]\n",
                        "---------- ToolCallSummaryMessage (DataAnalystAgent) ----------\n",
                        "85.98130841121495\n",
                        "---------- TextMessage (PlanningAgent) ----------\n",
                        "요약:\n",
                        "- 2006-2007 시즌 마이애미 히트에서 가장 많은 득점을 기록한 선수는 드웨인 웨이드로, 총 1397점을 기록하였습니다.\n",
                        "- 드웨인 웨이드의 2007-2008 시즌과 2008-2009 시즌 총 리바운드는 각각 214개, 398개였고, 이로 인해 총 리바운드 변화율은 약 85.98%로 계산되었습니다.\n",
                        "\n",
                        "TERMINATE\n"
                    ]
                },
                {
                    "data": {
                        "text/plain": [
                            "TaskResult(messages=[TextMessage(id='d5b63d28-ae09-4570-bbc1-f3dc2329e953', source='user', models_usage=None, metadata={}, created_at=datetime.datetime(2025, 7, 25, 8, 36, 34, 374740, tzinfo=datetime.timezone.utc), content='2006-2007 시즌에 가장 많은 득점을 기록한 마이애미 히트 선수는 누구이며, 2007-2008 시즌과 2008-2009 시즌의 총 리바운드 변화율은 얼마였나요?', type='TextMessage'), TextMessage(id='04def7a3-6b65-434a-b5e8-23de0802e3e2', source='PlanningAgent', models_usage=RequestUsage(prompt_tokens=168, completion_tokens=109), metadata={}, created_at=datetime.datetime(2025, 7, 25, 8, 36, 36, 767652, tzinfo=datetime.timezone.utc), content='1. WebSearchAgent: 2006-2007 시즌 마이애미 히트에서 가장 많은 득점을 기록한 선수 정보 검색\\n2. WebSearchAgent: 2007-2008 시즌과 2008-2009 시즌 마이애미 히트 선수들의 총 리바운드 데이터 수집\\n3. DataAnalystAgent: 2007-2008 시즌과 2008-2009 시즌 마이애미 히트 총 리바운드 변화율 계산', type='TextMessage'), ToolCallRequestEvent(id='8bf76aea-c48b-409b-b27a-0b8444e3e9ad', source='WebSearchAgent', models_usage=RequestUsage(prompt_tokens=264, completion_tokens=33), metadata={}, created_at=datetime.datetime(2025, 7, 25, 8, 36, 38, 103765, tzinfo=datetime.timezone.utc), content=[FunctionCall(id='call_JSVS5CO4tqH40X51P81vHzD9', arguments='{\"query\":\"2006-2007 시즌 마이애미 히트 최고 득점 선수\"}', name='search_web_tool')], type='ToolCallRequestEvent'), ToolCallExecutionEvent(id='9fe178ee-d6ef-48b3-8cac-e6c374bf3614', source='WebSearchAgent', models_usage=None, metadata={}, created_at=datetime.datetime(2025, 7, 25, 8, 36, 38, 105739, tzinfo=datetime.timezone.utc), content=[FunctionExecutionResult(content='2006-2007 시즌 마이애미 히트 선수들이 득점한 총 득점은 다음과 같습니다:\\n        우도니스 하슬렘: 844점\\n        드웨인 웨이드: 1397점\\n        제임스 포시: 550점\\n        ...\\n        ', name='search_web_tool', call_id='call_JSVS5CO4tqH40X51P81vHzD9', is_error=False)], type='ToolCallExecutionEvent'), ToolCallSummaryMessage(id='288eabf1-515a-441e-97be-c352ed116684', source='WebSearchAgent', models_usage=None, metadata={}, created_at=datetime.datetime(2025, 7, 25, 8, 36, 38, 105949, tzinfo=datetime.timezone.utc), content='2006-2007 시즌 마이애미 히트 선수들이 득점한 총 득점은 다음과 같습니다:\\n        우도니스 하슬렘: 844점\\n        드웨인 웨이드: 1397점\\n        제임스 포시: 550점\\n        ...\\n        ', type='ToolCallSummaryMessage', tool_calls=[FunctionCall(id='call_JSVS5CO4tqH40X51P81vHzD9', arguments='{\"query\":\"2006-2007 시즌 마이애미 히트 최고 득점 선수\"}', name='search_web_tool')], results=[FunctionExecutionResult(content='2006-2007 시즌 마이애미 히트 선수들이 득점한 총 득점은 다음과 같습니다:\\n        우도니스 하슬렘: 844점\\n        드웨인 웨이드: 1397점\\n        제임스 포시: 550점\\n        ...\\n        ', name='search_web_tool', call_id='call_JSVS5CO4tqH40X51P81vHzD9', is_error=False)]), TextMessage(id='b7db6fc9-5bc2-48d8-9f67-2e31f9f8fbde', source='PlanningAgent', models_usage=RequestUsage(prompt_tokens=356, completion_tokens=115), metadata={}, created_at=datetime.datetime(2025, 7, 25, 8, 36, 40, 363377, tzinfo=datetime.timezone.utc), content='4. WebSearchAgent: 2007-2008 시즌과 2008-2009 시즌 마이애미 히트 선수들의 총 리바운드 통계 검색 요청 (리마인더)\\n5. DataAnalystAgent: 2007-2008 시즌과 2008-2009 시즌 마이애미 히트의 총 리바운드 변화율 계산\\n\\n(우선 2006-2007 시즌 최대 득점자: 드웨인 웨이드 - 1397점 확인 완료)', type='TextMessage'), ToolCallRequestEvent(id='65fa82ed-3360-4849-b343-50e77dcffe87', source='WebSearchAgent', models_usage=RequestUsage(prompt_tokens=494, completion_tokens=57), metadata={}, created_at=datetime.datetime(2025, 7, 25, 8, 36, 42, 18003, tzinfo=datetime.timezone.utc), content=[FunctionCall(id='call_IPOPpmiaurtPU6AS5WiqktyK', arguments='{\"query\":\"2007-2008 시즌 마이애미 히트 팀 리바운드 총합과 2008-2009 시즌 마이애미 히트 팀 리바운드 총합\"}', name='search_web_tool')], type='ToolCallRequestEvent'), ToolCallExecutionEvent(id='301ab45a-a2ea-4ff7-b060-850399972f96', source='WebSearchAgent', models_usage=None, metadata={}, created_at=datetime.datetime(2025, 7, 25, 8, 36, 42, 19448, tzinfo=datetime.timezone.utc), content=[FunctionExecutionResult(content='2007-2008시즌 마이애미 히트에서 드웨인 웨이드가 기록한 총 리바운드 수는 214개입니다.', name='search_web_tool', call_id='call_IPOPpmiaurtPU6AS5WiqktyK', is_error=False)], type='ToolCallExecutionEvent'), ToolCallSummaryMessage(id='73d9a811-7ded-415c-b9ae-6eb405ab1779', source='WebSearchAgent', models_usage=None, metadata={}, created_at=datetime.datetime(2025, 7, 25, 8, 36, 42, 19647, tzinfo=datetime.timezone.utc), content='2007-2008시즌 마이애미 히트에서 드웨인 웨이드가 기록한 총 리바운드 수는 214개입니다.', type='ToolCallSummaryMessage', tool_calls=[FunctionCall(id='call_IPOPpmiaurtPU6AS5WiqktyK', arguments='{\"query\":\"2007-2008 시즌 마이애미 히트 팀 리바운드 총합과 2008-2009 시즌 마이애미 히트 팀 리바운드 총합\"}', name='search_web_tool')], results=[FunctionExecutionResult(content='2007-2008시즌 마이애미 히트에서 드웨인 웨이드가 기록한 총 리바운드 수는 214개입니다.', name='search_web_tool', call_id='call_IPOPpmiaurtPU6AS5WiqktyK', is_error=False)]), TextMessage(id='1874a5aa-ec80-487b-85b3-ea39f8e3c84e', source='PlanningAgent', models_usage=RequestUsage(prompt_tokens=518, completion_tokens=43), metadata={}, created_at=datetime.datetime(2025, 7, 25, 8, 36, 42, 931850, tzinfo=datetime.timezone.utc), content='6. WebSearchAgent: 2008-2009 시즌 마이애미 히트 선수들의 총 리바운드 데이터 중 드웨인 웨이드 리바운드 수 검색 요청', type='TextMessage'), ToolCallRequestEvent(id='83be2c18-4626-4eb2-affe-86c2918af3ba', source='WebSearchAgent', models_usage=RequestUsage(prompt_tokens=644, completion_tokens=40), metadata={}, created_at=datetime.datetime(2025, 7, 25, 8, 36, 44, 670634, tzinfo=datetime.timezone.utc), content=[FunctionCall(id='call_2s3xe1PWMhQ1yL9m6PO09CpQ', arguments='{\"query\":\"2008-2009 시즌 마이애미 히트 드웨인 웨이드 총 리바운드 수\"}', name='search_web_tool')], type='ToolCallRequestEvent'), ToolCallExecutionEvent(id='50abf224-de55-49fb-bde1-142136930c02', source='WebSearchAgent', models_usage=None, metadata={}, created_at=datetime.datetime(2025, 7, 25, 8, 36, 44, 672300, tzinfo=datetime.timezone.utc), content=[FunctionExecutionResult(content='2008-2009 시즌 마이애미 히트에서 드웨인 웨이드가 기록한 총 리바운드 수는 398개입니다.', name='search_web_tool', call_id='call_2s3xe1PWMhQ1yL9m6PO09CpQ', is_error=False)], type='ToolCallExecutionEvent'), ToolCallSummaryMessage(id='ea85fcc2-ec1f-4876-a642-b31bb9178d18', source='WebSearchAgent', models_usage=None, metadata={}, created_at=datetime.datetime(2025, 7, 25, 8, 36, 44, 672520, tzinfo=datetime.timezone.utc), content='2008-2009 시즌 마이애미 히트에서 드웨인 웨이드가 기록한 총 리바운드 수는 398개입니다.', type='ToolCallSummaryMessage', tool_calls=[FunctionCall(id='call_2s3xe1PWMhQ1yL9m6PO09CpQ', arguments='{\"query\":\"2008-2009 시즌 마이애미 히트 드웨인 웨이드 총 리바운드 수\"}', name='search_web_tool')], results=[FunctionExecutionResult(content='2008-2009 시즌 마이애미 히트에서 드웨인 웨이드가 기록한 총 리바운드 수는 398개입니다.', name='search_web_tool', call_id='call_2s3xe1PWMhQ1yL9m6PO09CpQ', is_error=False)]), TextMessage(id='574ccfd4-819a-4489-8263-28a70c650927', source='PlanningAgent', models_usage=RequestUsage(prompt_tokens=607, completion_tokens=111), metadata={}, created_at=datetime.datetime(2025, 7, 25, 8, 36, 46, 717520, tzinfo=datetime.timezone.utc), content='7. DataAnalystAgent: 2007-2008 시즌과 2008-2009 시즌 마이애미 히트 드웨인 웨이드 총 리바운드 변화율 계산\\n\\n(수집 완료: \\n- 2006-2007 시즌 최다 득점자: 드웨인 웨이드(1397점)\\n- 2007-2008 시즌 리바운드: 214개\\n- 2008-2009 시즌 리바운드: 398개)', type='TextMessage'), ToolCallRequestEvent(id='aed62d1f-84ae-4702-872b-f097c1ff6930', source='DataAnalystAgent', models_usage=RequestUsage(prompt_tokens=717, completion_tokens=21), metadata={}, created_at=datetime.datetime(2025, 7, 25, 8, 36, 47, 789042, tzinfo=datetime.timezone.utc), content=[FunctionCall(id='call_kozD5Bxbt38W7fSbN9Aok5uu', arguments='{\"start\":214,\"end\":398}', name='percentage_change_tool')], type='ToolCallRequestEvent'), ToolCallExecutionEvent(id='6717361d-a4b0-4b0f-bee8-a5b3dc83408c', source='DataAnalystAgent', models_usage=None, metadata={}, created_at=datetime.datetime(2025, 7, 25, 8, 36, 47, 790896, tzinfo=datetime.timezone.utc), content=[FunctionExecutionResult(content='85.98130841121495', name='percentage_change_tool', call_id='call_kozD5Bxbt38W7fSbN9Aok5uu', is_error=False)], type='ToolCallExecutionEvent'), ToolCallSummaryMessage(id='3d9a0739-dec2-448a-84b4-57ba7bb99bff', source='DataAnalystAgent', models_usage=None, metadata={}, created_at=datetime.datetime(2025, 7, 25, 8, 36, 47, 791104, tzinfo=datetime.timezone.utc), content='85.98130841121495', type='ToolCallSummaryMessage', tool_calls=[FunctionCall(id='call_kozD5Bxbt38W7fSbN9Aok5uu', arguments='{\"start\":214,\"end\":398}', name='percentage_change_tool')], results=[FunctionExecutionResult(content='85.98130841121495', name='percentage_change_tool', call_id='call_kozD5Bxbt38W7fSbN9Aok5uu', is_error=False)]), TextMessage(id='bbd300c2-be34-453d-b9a4-c6ecd313f186', source='PlanningAgent', models_usage=RequestUsage(prompt_tokens=737, completion_tokens=109), metadata={}, created_at=datetime.datetime(2025, 7, 25, 8, 36, 49, 760487, tzinfo=datetime.timezone.utc), content='요약:\\n- 2006-2007 시즌 마이애미 히트에서 가장 많은 득점을 기록한 선수는 드웨인 웨이드로, 총 1397점을 기록하였습니다.\\n- 드웨인 웨이드의 2007-2008 시즌과 2008-2009 시즌 총 리바운드는 각각 214개, 398개였고, 이로 인해 총 리바운드 변화율은 약 85.98%로 계산되었습니다.\\n\\nTERMINATE', type='TextMessage')], stop_reason=\"Text 'TERMINATE' mentioned\")"
                        ]
                    },
                    "execution_count": 9,
                    "metadata": {},
                    "output_type": "execute_result"
                }
            ],
            "source": [
                "def selector_func(messages: Sequence[BaseAgentEvent | BaseChatMessage]) -> str | None:\n",
                "    if messages[-1].source != planning_agent.name:\n",
                "        return planning_agent.name\n",
                "    return None\n",
                "\n",
                "\n",
                "# Reset the previous team and run the chat again with the selector function.\n",
                "await team.reset()\n",
                "team = SelectorGroupChat(\n",
                "    [planning_agent, web_search_agent, data_analyst_agent],\n",
                "    model_client=model_client,\n",
                "    termination_condition=termination,\n",
                "    selector_prompt=selector_prompt,\n",
                "    allow_repeated_speaker=True,\n",
                "    selector_func=selector_func,\n",
                ")\n",
                "\n",
                "await Console(team.run_stream(task=task))"
            ]
        },
        {
            "cell_type": "markdown",
            "metadata": {},
            "source": [
                "대화 로그에서 계획 에이전트가 항상 전문 에이전트 이후에 즉시 발언하는 것을 볼 수 있습니다.\n",
                "\n",
                "```{tip}\n",
                "각 참가자 에이전트는 각 차례에 한 단계만 수행합니다 (도구 실행, 응답 생성 등).\n",
                "{py:class}`~autogen_agentchat.agents.AssistantAgent`가 실행해야 하는 모든 도구 실행을 마쳤을 때 {py:class}`~autogen_agentchat.messages.ToolCallSummaryMessage` 반환을 중지할 때까지 반복하기를 원한다면, 마지막 메시지를 확인하고 그것이 {py:class}`~autogen_agentchat.messages.ToolCallSummaryMessage`인 경우 에이전트를 반환하여 그렇게 할 수 있습니다.\n",
                "```"
            ]
        },
        {
            "cell_type": "markdown",
            "metadata": {},
            "source": [
                "## 사용자 정의 후보 함수"
            ]
        },
        {
            "cell_type": "markdown",
            "metadata": {},
            "source": [
                "또 다른 가능한 요구사항은 필터링된 에이전트 목록에서 다음 발언자를 자동으로 선택하는 것일 수 있습니다.\n",
                "이를 위해 그룹 채팅의 각 차례에서 발언자 선택을 위한 잠재적 에이전트 목록을 필터링하는 사용자 정의 후보 함수로 `candidate_func` 매개변수를 설정할 수 있습니다.\n",
                "\n",
                "이를 통해 주어진 에이전트 이후에 특정 에이전트 세트로 발언자 선택을 제한할 수 있습니다.\n",
                "\n",
                "```{note}\n",
                "`candidate_func`는 `selector_func`가 설정되지 않은 경우에만 유효합니다.\n",
                "사용자 정의 후보 함수에서 `None` 또는 빈 목록 `[]`을 반환하면 `ValueError`가 발생합니다.\n",
                "```"
            ]
        },
        {
            "cell_type": "code",
            "execution_count": 26,
            "metadata": {},
            "outputs": [
                {
                    "name": "stdout",
                    "output_type": "stream",
                    "text": [
                        "---------- TextMessage (user) ----------\n",
                        "2006-2007 시즌에 가장 많은 득점을 기록한 마이애미 히트 선수는 누구이며, 2007-2008 시즌과 2008-2009 시즌의 총 리바운드 변화율은 얼마였나요?\n"
                    ]
                },
                {
                    "name": "stdout",
                    "output_type": "stream",
                    "text": [
                        "---------- TextMessage (PlanningAgent) ----------\n",
                        "1. WebSearchAgent: 2006-2007 시즌에 마이애미 히트에서 가장 많은 득점을 기록한 선수 찾기\n",
                        "2. WebSearchAgent: 2007-2008 시즌과 2008-2009 시즌의 마이애미 히트 팀 총 리바운드 기록 수집하기\n",
                        "3. DataAnalystAgent: 수집된 2007-2008 시즌과 2008-2009 시즌의 총 리바운드 데이터를 바탕으로 변화율 계산하기\n",
                        "---------- ToolCallRequestEvent (WebSearchAgent) ----------\n",
                        "[FunctionCall(id='call_sQ0aTkEH5MlzVC1ti9aSYyqB', arguments='{\"query\": \"2006-2007 Miami Heat top scorer\"}', name='search_web_tool'), FunctionCall(id='call_lupyWkM5BD3MKTtLnkdcEAIP', arguments='{\"query\": \"Miami Heat total rebounds 2007-2008 season\"}', name='search_web_tool'), FunctionCall(id='call_EVj1z3saRVJwraG6lrucsLnr', arguments='{\"query\": \"Miami Heat total rebounds 2008-2009 season\"}', name='search_web_tool')]\n",
                        "---------- ToolCallExecutionEvent (WebSearchAgent) ----------\n",
                        "[FunctionExecutionResult(content='2006-2007 시즌 마이애미 히트 선수들이 득점한 총 득점은 다음과 같습니다:\\n        우도니스 하슬렘: 844점\\n        드웨인 웨이드: 1397점\\n        제임스 포시: 550점\\n        ...\\n        ', name='search_web_tool', call_id='call_sQ0aTkEH5MlzVC1ti9aSYyqB', is_error=False), FunctionExecutionResult(content='2007-2008시즌 마이애미 히트에서 드웨인 웨이드가 기록한 총 리바운드 수는 214개입니다.', name='search_web_tool', call_id='call_lupyWkM5BD3MKTtLnkdcEAIP', is_error=False), FunctionExecutionResult(content='2008-2009 시즌 마이애미 히트에서 드웨인 웨이드가 기록한 총 리바운드 수는 398개입니다.', name='search_web_tool', call_id='call_EVj1z3saRVJwraG6lrucsLnr', is_error=False)]\n",
                        "---------- ToolCallSummaryMessage (WebSearchAgent) ----------\n",
                        "2006-2007 시즌 마이애미 히트 선수들이 득점한 총 득점은 다음과 같습니다:\n",
                        "        우도니스 하슬렘: 844점\n",
                        "        드웨인 웨이드: 1397점\n",
                        "        제임스 포시: 550점\n",
                        "        ...\n",
                        "        \n",
                        "2007-2008시즌 마이애미 히트에서 드웨인 웨이드가 기록한 총 리바운드 수는 214개입니다.\n",
                        "2008-2009 시즌 마이애미 히트에서 드웨인 웨이드가 기록한 총 리바운드 수는 398개입니다.\n",
                        "---------- ToolCallRequestEvent (DataAnalystAgent) ----------\n",
                        "[FunctionCall(id='call_LIrXT79X9x3V6pIj3yZyaXG1', arguments='{\"start\":214,\"end\":398}', name='percentage_change_tool')]\n",
                        "---------- ToolCallExecutionEvent (DataAnalystAgent) ----------\n",
                        "[FunctionExecutionResult(content='85.98130841121495', name='percentage_change_tool', call_id='call_LIrXT79X9x3V6pIj3yZyaXG1', is_error=False)]\n",
                        "---------- ToolCallSummaryMessage (DataAnalystAgent) ----------\n",
                        "85.98130841121495\n",
                        "---------- TextMessage (PlanningAgent) ----------\n",
                        "1. DataAnalystAgent: 2007-2008 시즌과 2008-2009 시즌의 마이애미 히트 팀 총 리바운드 변화율 계산이 올바른지 검증하기\n",
                        "\n",
                        "2. WebSearchAgent: 2007-2008 시즌과 2008-2009 시즌 마이애미 히트 팀 전체 리바운드 데이터를 확인하여 드웨인 웨이드의 리바운드 수치와 비교 검증하기\n",
                        "---------- ToolCallRequestEvent (WebSearchAgent) ----------\n",
                        "[FunctionCall(id='call_K15Y2xObNMoAHs4B65NrO7Jg', arguments='{\"query\": \"Dwyane Wade rebounds 2007-2008 season Miami Heat\"}', name='search_web_tool'), FunctionCall(id='call_UXflz0S78jJbV9KSDp4M0oM5', arguments='{\"query\": \"Dwyane Wade rebounds 2008-2009 season Miami Heat\"}', name='search_web_tool')]\n",
                        "---------- ToolCallExecutionEvent (WebSearchAgent) ----------\n",
                        "[FunctionExecutionResult(content='2007-2008시즌 마이애미 히트에서 드웨인 웨이드가 기록한 총 리바운드 수는 214개입니다.', name='search_web_tool', call_id='call_K15Y2xObNMoAHs4B65NrO7Jg', is_error=False), FunctionExecutionResult(content='2008-2009 시즌 마이애미 히트에서 드웨인 웨이드가 기록한 총 리바운드 수는 398개입니다.', name='search_web_tool', call_id='call_UXflz0S78jJbV9KSDp4M0oM5', is_error=False)]\n",
                        "---------- ToolCallSummaryMessage (WebSearchAgent) ----------\n",
                        "2007-2008시즌 마이애미 히트에서 드웨인 웨이드가 기록한 총 리바운드 수는 214개입니다.\n",
                        "2008-2009 시즌 마이애미 히트에서 드웨인 웨이드가 기록한 총 리바운드 수는 398개입니다.\n",
                        "---------- TextMessage (PlanningAgent) ----------\n",
                        "Findings:\n",
                        "- The player with the most points for the Miami Heat in the 2006-2007 season was Dwyane Wade with 1,397 points.\n",
                        "- Dwyane Wade's total rebounds for the 2007-2008 season were 214.\n",
                        "- Dwyane Wade's total rebounds for the 2008-2009 season were 398.\n",
                        "- The calculated rebound change rate between the 2007-2008 and 2008-2009 seasons is approximately 85.98%.\n",
                        "\n",
                        "TERMINATE\n"
                    ]
                },
                {
                    "data": {
                        "text/plain": [
                            "TaskResult(messages=[TextMessage(id='c8af67b7-d984-450a-af9e-8e8d88099861', source='user', models_usage=None, metadata={}, created_at=datetime.datetime(2025, 7, 15, 6, 9, 12, 853921, tzinfo=datetime.timezone.utc), content='2006-2007 시즌에 가장 많은 득점을 기록한 마이애미 히트 선수는 누구이며, 2007-2008 시즌과 2008-2009 시즌의 총 리바운드 변화율은 얼마였나요?', type='TextMessage'), TextMessage(id='d36fa056-25cb-44b6-ad1f-739a0e05e68b', source='PlanningAgent', models_usage=RequestUsage(prompt_tokens=168, completion_tokens=113), metadata={}, created_at=datetime.datetime(2025, 7, 15, 6, 9, 14, 44532, tzinfo=datetime.timezone.utc), content='1. WebSearchAgent: 2006-2007 시즌에 마이애미 히트에서 가장 많은 득점을 기록한 선수 찾기\\n2. WebSearchAgent: 2007-2008 시즌과 2008-2009 시즌의 마이애미 히트 팀 총 리바운드 기록 수집하기\\n3. DataAnalystAgent: 수집된 2007-2008 시즌과 2008-2009 시즌의 총 리바운드 데이터를 바탕으로 변화율 계산하기', type='TextMessage'), ToolCallRequestEvent(id='ec1648f5-df19-42cd-afec-dee9b35140e4', source='WebSearchAgent', models_usage=RequestUsage(prompt_tokens=268, completion_tokens=90), metadata={}, created_at=datetime.datetime(2025, 7, 15, 6, 9, 15, 322272, tzinfo=datetime.timezone.utc), content=[FunctionCall(id='call_sQ0aTkEH5MlzVC1ti9aSYyqB', arguments='{\"query\": \"2006-2007 Miami Heat top scorer\"}', name='search_web_tool'), FunctionCall(id='call_lupyWkM5BD3MKTtLnkdcEAIP', arguments='{\"query\": \"Miami Heat total rebounds 2007-2008 season\"}', name='search_web_tool'), FunctionCall(id='call_EVj1z3saRVJwraG6lrucsLnr', arguments='{\"query\": \"Miami Heat total rebounds 2008-2009 season\"}', name='search_web_tool')], type='ToolCallRequestEvent'), ToolCallExecutionEvent(id='3134af8d-4945-4703-8788-81fc7e60c591', source='WebSearchAgent', models_usage=None, metadata={}, created_at=datetime.datetime(2025, 7, 15, 6, 9, 15, 324933, tzinfo=datetime.timezone.utc), content=[FunctionExecutionResult(content='2006-2007 시즌 마이애미 히트 선수들이 득점한 총 득점은 다음과 같습니다:\\n        우도니스 하슬렘: 844점\\n        드웨인 웨이드: 1397점\\n        제임스 포시: 550점\\n        ...\\n        ', name='search_web_tool', call_id='call_sQ0aTkEH5MlzVC1ti9aSYyqB', is_error=False), FunctionExecutionResult(content='2007-2008시즌 마이애미 히트에서 드웨인 웨이드가 기록한 총 리바운드 수는 214개입니다.', name='search_web_tool', call_id='call_lupyWkM5BD3MKTtLnkdcEAIP', is_error=False), FunctionExecutionResult(content='2008-2009 시즌 마이애미 히트에서 드웨인 웨이드가 기록한 총 리바운드 수는 398개입니다.', name='search_web_tool', call_id='call_EVj1z3saRVJwraG6lrucsLnr', is_error=False)], type='ToolCallExecutionEvent'), ToolCallSummaryMessage(id='7ac1a428-d84d-478b-91e9-f056ff558092', source='WebSearchAgent', models_usage=None, metadata={}, created_at=datetime.datetime(2025, 7, 15, 6, 9, 15, 325086, tzinfo=datetime.timezone.utc), content='2006-2007 시즌 마이애미 히트 선수들이 득점한 총 득점은 다음과 같습니다:\\n        우도니스 하슬렘: 844점\\n        드웨인 웨이드: 1397점\\n        제임스 포시: 550점\\n        ...\\n        \\n2007-2008시즌 마이애미 히트에서 드웨인 웨이드가 기록한 총 리바운드 수는 214개입니다.\\n2008-2009 시즌 마이애미 히트에서 드웨인 웨이드가 기록한 총 리바운드 수는 398개입니다.', type='ToolCallSummaryMessage', tool_calls=[FunctionCall(id='call_sQ0aTkEH5MlzVC1ti9aSYyqB', arguments='{\"query\": \"2006-2007 Miami Heat top scorer\"}', name='search_web_tool'), FunctionCall(id='call_lupyWkM5BD3MKTtLnkdcEAIP', arguments='{\"query\": \"Miami Heat total rebounds 2007-2008 season\"}', name='search_web_tool'), FunctionCall(id='call_EVj1z3saRVJwraG6lrucsLnr', arguments='{\"query\": \"Miami Heat total rebounds 2008-2009 season\"}', name='search_web_tool')], results=[FunctionExecutionResult(content='2006-2007 시즌 마이애미 히트 선수들이 득점한 총 득점은 다음과 같습니다:\\n        우도니스 하슬렘: 844점\\n        드웨인 웨이드: 1397점\\n        제임스 포시: 550점\\n        ...\\n        ', name='search_web_tool', call_id='call_sQ0aTkEH5MlzVC1ti9aSYyqB', is_error=False), FunctionExecutionResult(content='2007-2008시즌 마이애미 히트에서 드웨인 웨이드가 기록한 총 리바운드 수는 214개입니다.', name='search_web_tool', call_id='call_lupyWkM5BD3MKTtLnkdcEAIP', is_error=False), FunctionExecutionResult(content='2008-2009 시즌 마이애미 히트에서 드웨인 웨이드가 기록한 총 리바운드 수는 398개입니다.', name='search_web_tool', call_id='call_EVj1z3saRVJwraG6lrucsLnr', is_error=False)]), ToolCallRequestEvent(id='07ac2cb4-deb0-489d-a887-986e7a07049c', source='DataAnalystAgent', models_usage=RequestUsage(prompt_tokens=418, completion_tokens=21), metadata={}, created_at=datetime.datetime(2025, 7, 15, 6, 9, 16, 178131, tzinfo=datetime.timezone.utc), content=[FunctionCall(id='call_LIrXT79X9x3V6pIj3yZyaXG1', arguments='{\"start\":214,\"end\":398}', name='percentage_change_tool')], type='ToolCallRequestEvent'), ToolCallExecutionEvent(id='c330cd6f-1937-4399-974b-c20ca65a2ead', source='DataAnalystAgent', models_usage=None, metadata={}, created_at=datetime.datetime(2025, 7, 15, 6, 9, 16, 179654, tzinfo=datetime.timezone.utc), content=[FunctionExecutionResult(content='85.98130841121495', name='percentage_change_tool', call_id='call_LIrXT79X9x3V6pIj3yZyaXG1', is_error=False)], type='ToolCallExecutionEvent'), ToolCallSummaryMessage(id='86ccaf71-f903-4219-a12c-a9e8dcca5120', source='DataAnalystAgent', models_usage=None, metadata={}, created_at=datetime.datetime(2025, 7, 15, 6, 9, 16, 179771, tzinfo=datetime.timezone.utc), content='85.98130841121495', type='ToolCallSummaryMessage', tool_calls=[FunctionCall(id='call_LIrXT79X9x3V6pIj3yZyaXG1', arguments='{\"start\":214,\"end\":398}', name='percentage_change_tool')], results=[FunctionExecutionResult(content='85.98130841121495', name='percentage_change_tool', call_id='call_LIrXT79X9x3V6pIj3yZyaXG1', is_error=False)]), TextMessage(id='e4f8a915-2784-4794-ae2e-8dbc30cc049b', source='PlanningAgent', models_usage=RequestUsage(prompt_tokens=447, completion_tokens=104), metadata={}, created_at=datetime.datetime(2025, 7, 15, 6, 9, 17, 152291, tzinfo=datetime.timezone.utc), content='1. DataAnalystAgent: 2007-2008 시즌과 2008-2009 시즌의 마이애미 히트 팀 총 리바운드 변화율 계산이 올바른지 검증하기\\n\\n2. WebSearchAgent: 2007-2008 시즌과 2008-2009 시즌 마이애미 히트 팀 전체 리바운드 데이터를 확인하여 드웨인 웨이드의 리바운드 수치와 비교 검증하기', type='TextMessage'), ToolCallRequestEvent(id='4832db9b-6c52-4af8-ad74-f6460e7025f9', source='WebSearchAgent', models_usage=RequestUsage(prompt_tokens=933, completion_tokens=73), metadata={}, created_at=datetime.datetime(2025, 7, 15, 6, 9, 18, 813775, tzinfo=datetime.timezone.utc), content=[FunctionCall(id='call_K15Y2xObNMoAHs4B65NrO7Jg', arguments='{\"query\": \"Dwyane Wade rebounds 2007-2008 season Miami Heat\"}', name='search_web_tool'), FunctionCall(id='call_UXflz0S78jJbV9KSDp4M0oM5', arguments='{\"query\": \"Dwyane Wade rebounds 2008-2009 season Miami Heat\"}', name='search_web_tool')], type='ToolCallRequestEvent'), ToolCallExecutionEvent(id='5e9dfc0f-ecd4-4685-bbdc-3c7a78996347', source='WebSearchAgent', models_usage=None, metadata={}, created_at=datetime.datetime(2025, 7, 15, 6, 9, 18, 815061, tzinfo=datetime.timezone.utc), content=[FunctionExecutionResult(content='2007-2008시즌 마이애미 히트에서 드웨인 웨이드가 기록한 총 리바운드 수는 214개입니다.', name='search_web_tool', call_id='call_K15Y2xObNMoAHs4B65NrO7Jg', is_error=False), FunctionExecutionResult(content='2008-2009 시즌 마이애미 히트에서 드웨인 웨이드가 기록한 총 리바운드 수는 398개입니다.', name='search_web_tool', call_id='call_UXflz0S78jJbV9KSDp4M0oM5', is_error=False)], type='ToolCallExecutionEvent'), ToolCallSummaryMessage(id='04112b41-2802-4f1a-a7fd-e0fc1f727eff', source='WebSearchAgent', models_usage=None, metadata={}, created_at=datetime.datetime(2025, 7, 15, 6, 9, 18, 815174, tzinfo=datetime.timezone.utc), content='2007-2008시즌 마이애미 히트에서 드웨인 웨이드가 기록한 총 리바운드 수는 214개입니다.\\n2008-2009 시즌 마이애미 히트에서 드웨인 웨이드가 기록한 총 리바운드 수는 398개입니다.', type='ToolCallSummaryMessage', tool_calls=[FunctionCall(id='call_K15Y2xObNMoAHs4B65NrO7Jg', arguments='{\"query\": \"Dwyane Wade rebounds 2007-2008 season Miami Heat\"}', name='search_web_tool'), FunctionCall(id='call_UXflz0S78jJbV9KSDp4M0oM5', arguments='{\"query\": \"Dwyane Wade rebounds 2008-2009 season Miami Heat\"}', name='search_web_tool')], results=[FunctionExecutionResult(content='2007-2008시즌 마이애미 히트에서 드웨인 웨이드가 기록한 총 리바운드 수는 214개입니다.', name='search_web_tool', call_id='call_K15Y2xObNMoAHs4B65NrO7Jg', is_error=False), FunctionExecutionResult(content='2008-2009 시즌 마이애미 히트에서 드웨인 웨이드가 기록한 총 리바운드 수는 398개입니다.', name='search_web_tool', call_id='call_UXflz0S78jJbV9KSDp4M0oM5', is_error=False)]), TextMessage(id='fc7b0344-abfa-46df-98ef-90a7922bb170', source='PlanningAgent', models_usage=RequestUsage(prompt_tokens=633, completion_tokens=110), metadata={}, created_at=datetime.datetime(2025, 7, 15, 6, 9, 19, 891493, tzinfo=datetime.timezone.utc), content=\"Findings:\\n- The player with the most points for the Miami Heat in the 2006-2007 season was Dwyane Wade with 1,397 points.\\n- Dwyane Wade's total rebounds for the 2007-2008 season were 214.\\n- Dwyane Wade's total rebounds for the 2008-2009 season were 398.\\n- The calculated rebound change rate between the 2007-2008 and 2008-2009 seasons is approximately 85.98%.\\n\\nTERMINATE\", type='TextMessage')], stop_reason=\"Text 'TERMINATE' mentioned\")"
                        ]
                    },
                    "execution_count": 26,
                    "metadata": {},
                    "output_type": "execute_result"
                }
            ],
            "source": [
                "def candidate_func(messages: Sequence[BaseAgentEvent | BaseChatMessage]) -> List[str]:\n",
                "    # keep planning_agent first one to plan out the tasks\n",
                "    if messages[-1].source == \"user\":\n",
                "        return [planning_agent.name]\n",
                "\n",
                "    # if previous agent is planning_agent and if it explicitly asks for web_search_agent\n",
                "    # or data_analyst_agent or both (in-case of re-planning or re-assignment of tasks)\n",
                "    # then return those specific agents\n",
                "    last_message = messages[-1]\n",
                "    if last_message.source == planning_agent.name:\n",
                "        participants = []\n",
                "        if web_search_agent.name in last_message.to_text():\n",
                "            participants.append(web_search_agent.name)\n",
                "        if data_analyst_agent.name in last_message.to_text():\n",
                "            participants.append(data_analyst_agent.name)\n",
                "        if participants:\n",
                "            return participants  # SelectorGroupChat will select from the remaining two agents.\n",
                "\n",
                "    # we can assume that the task is finished once the web_search_agent\n",
                "    # and data_analyst_agent have took their turns, thus we send\n",
                "    # in planning_agent to terminate the chat\n",
                "    previous_set_of_agents = set(message.source for message in messages)\n",
                "    if web_search_agent.name in previous_set_of_agents and data_analyst_agent.name in previous_set_of_agents:\n",
                "        return [planning_agent.name]\n",
                "\n",
                "    # if no-conditions are met then return all the agents\n",
                "    return [planning_agent.name, web_search_agent.name, data_analyst_agent.name]\n",
                "\n",
                "\n",
                "# Reset the previous team and run the chat again with the selector function.\n",
                "await team.reset()\n",
                "team = SelectorGroupChat(\n",
                "    [planning_agent, web_search_agent, data_analyst_agent],\n",
                "    model_client=model_client,\n",
                "    termination_condition=termination,\n",
                "    candidate_func=candidate_func,\n",
                ")\n",
                "\n",
                "await Console(team.run_stream(task=task))"
            ]
        },
        {
            "cell_type": "markdown",
            "metadata": {},
            "source": [
                "대화 로그에서 웹 검색 에이전트와 데이터 분석 에이전트가 차례를 가진 후 계획 에이전트가 대화로 돌아가는 것을 볼 수 있으며, 예상대로 작업이 완료되지 않았다는 것을 발견하여 웹 검색 에이전트를 다시 호출하여 리바운드 값을 얻고 데이터 분석 에이전트를 호출하여 백분율 변화를 구했습니다."
            ]
        },
        {
            "cell_type": "markdown",
            "metadata": {},
            "source": [
                "## 사용자 피드백\n",
                "\n",
                "실행 중 사용자 피드백을 제공하기 위해 팀에 {py:class}`~autogen_agentchat.agents.UserProxyAgent`를 추가할 수 있습니다.\n",
                "{py:class}`~autogen_agentchat.agents.UserProxyAgent`에 대한 자세한 내용은 [휴먼 인 더 루프](./tutorial/human-in-the-loop.ipynb)를 참조하세요.\n",
                "\n",
                "웹 검색 예제에서 {py:class}`~autogen_agentchat.agents.UserProxyAgent`를 사용하려면 단순히 팀에 추가하고 계획 에이전트가 발언한 후 항상 사용자 피드백을 확인하도록 선택자 함수를 업데이트하면 됩니다.\n",
                "사용자가 `\"APPROVE\"`로 응답하면 대화가 계속되고, 그렇지 않으면 사용자가 승인할 때까지 계획 에이전트가 다시 시도합니다."
            ]
        },
        {
            "cell_type": "code",
            "execution_count": 27,
            "metadata": {},
            "outputs": [
                {
                    "name": "stdout",
                    "output_type": "stream",
                    "text": [
                        "---------- TextMessage (user) ----------\n",
                        "2006-2007 시즌에 가장 많은 득점을 기록한 마이애미 히트 선수는 누구이며, 2007-2008 시즌과 2008-2009 시즌의 총 리바운드 변화율은 얼마였나요?\n",
                        "---------- TextMessage (PlanningAgent) ----------\n",
                        "1. WebSearchAgent : 2006-2007 시즌 마이애미 히트에서 가장 많은 득점을 기록한 선수 정보를 검색  \n",
                        "2. WebSearchAgent : 2007-2008 시즌과 2008-2009 시즌 마이애미 히트 팀의 총 리바운드 데이터를 수집  \n",
                        "3. DataAnalystAgent : 2007-2008 시즌과 2008-2009 시즌 마이애미 히트 팀 총 리바운드의 변화율을 계산\n",
                        "---------- TextMessage (UserProxyAgent) ----------\n",
                        "approve\n",
                        "---------- ToolCallRequestEvent (WebSearchAgent) ----------\n",
                        "[FunctionCall(id='call_aVAK7UoWvlYaLJynnsudwKgm', arguments='{\"query\": \"2006-2007 season Miami Heat top scorer\"}', name='search_web_tool'), FunctionCall(id='call_0jIaFEk2kTM1GuccGMUFcG1S', arguments='{\"query\": \"2007-2008 Miami Heat team total rebounds\"}', name='search_web_tool'), FunctionCall(id='call_1vpDi7rVTaljH2uL6skHa5Fq', arguments='{\"query\": \"2008-2009 Miami Heat team total rebounds\"}', name='search_web_tool')]\n",
                        "---------- ToolCallExecutionEvent (WebSearchAgent) ----------\n",
                        "[FunctionExecutionResult(content='2006-2007 시즌 마이애미 히트 선수들이 득점한 총 득점은 다음과 같습니다:\\n        우도니스 하슬렘: 844점\\n        드웨인 웨이드: 1397점\\n        제임스 포시: 550점\\n        ...\\n        ', name='search_web_tool', call_id='call_aVAK7UoWvlYaLJynnsudwKgm', is_error=False), FunctionExecutionResult(content='2007-2008시즌 마이애미 히트에서 드웨인 웨이드가 기록한 총 리바운드 수는 214개입니다.', name='search_web_tool', call_id='call_0jIaFEk2kTM1GuccGMUFcG1S', is_error=False), FunctionExecutionResult(content='2008-2009 시즌 마이애미 히트에서 드웨인 웨이드가 기록한 총 리바운드 수는 398개입니다.', name='search_web_tool', call_id='call_1vpDi7rVTaljH2uL6skHa5Fq', is_error=False)]\n",
                        "---------- ToolCallSummaryMessage (WebSearchAgent) ----------\n",
                        "2006-2007 시즌 마이애미 히트 선수들이 득점한 총 득점은 다음과 같습니다:\n",
                        "        우도니스 하슬렘: 844점\n",
                        "        드웨인 웨이드: 1397점\n",
                        "        제임스 포시: 550점\n",
                        "        ...\n",
                        "        \n",
                        "2007-2008시즌 마이애미 히트에서 드웨인 웨이드가 기록한 총 리바운드 수는 214개입니다.\n",
                        "2008-2009 시즌 마이애미 히트에서 드웨인 웨이드가 기록한 총 리바운드 수는 398개입니다.\n",
                        "---------- TextMessage (PlanningAgent) ----------\n",
                        "4. DataAnalystAgent : 2007-2008 시즌과 2008-2009 시즌 드웨인 웨이드의 총 리바운드 변화율 계산\n",
                        "---------- TextMessage (UserProxyAgent) ----------\n",
                        "approve\n",
                        "---------- ToolCallRequestEvent (DataAnalystAgent) ----------\n",
                        "[FunctionCall(id='call_MkJnXG2hciL2rDpehE54UCsc', arguments='{\"start\":214,\"end\":398}', name='percentage_change_tool')]\n",
                        "---------- ToolCallExecutionEvent (DataAnalystAgent) ----------\n",
                        "[FunctionExecutionResult(content='85.98130841121495', name='percentage_change_tool', call_id='call_MkJnXG2hciL2rDpehE54UCsc', is_error=False)]\n",
                        "---------- ToolCallSummaryMessage (DataAnalystAgent) ----------\n",
                        "85.98130841121495\n",
                        "---------- TextMessage (PlanningAgent) ----------\n",
                        "2006-2007 시즌 마이애미 히트에서 가장 많은 득점을 기록한 선수는 드웨인 웨이드로, 총 1397점을 기록했습니다.  \n",
                        "2007-2008 시즌과 2008-2009 시즌 드웨인 웨이드의 총 리바운드는 214개에서 398개로 증가했으며, 이는 약 85.98%의 변화율입니다.\n",
                        "\n",
                        "TERMINATE\n"
                    ]
                },
                {
                    "data": {
                        "text/plain": [
                            "TaskResult(messages=[TextMessage(id='62660d57-10c3-48bf-aeb8-138957308c0c', source='user', models_usage=None, metadata={}, created_at=datetime.datetime(2025, 7, 15, 6, 9, 59, 468136, tzinfo=datetime.timezone.utc), content='2006-2007 시즌에 가장 많은 득점을 기록한 마이애미 히트 선수는 누구이며, 2007-2008 시즌과 2008-2009 시즌의 총 리바운드 변화율은 얼마였나요?', type='TextMessage'), TextMessage(id='f8b17b40-e831-46fa-81f5-b21fc94b4188', source='PlanningAgent', models_usage=RequestUsage(prompt_tokens=168, completion_tokens=112), metadata={}, created_at=datetime.datetime(2025, 7, 15, 6, 10, 0, 627127, tzinfo=datetime.timezone.utc), content='1. WebSearchAgent : 2006-2007 시즌 마이애미 히트에서 가장 많은 득점을 기록한 선수 정보를 검색  \\n2. WebSearchAgent : 2007-2008 시즌과 2008-2009 시즌 마이애미 히트 팀의 총 리바운드 데이터를 수집  \\n3. DataAnalystAgent : 2007-2008 시즌과 2008-2009 시즌 마이애미 히트 팀 총 리바운드의 변화율을 계산', type='TextMessage'), UserInputRequestedEvent(id='6f663f01-3024-423e-a040-2394fdf5cc2c', source='UserProxyAgent', models_usage=None, metadata={}, created_at=datetime.datetime(2025, 7, 15, 6, 10, 0, 628591, tzinfo=datetime.timezone.utc), request_id='6cdffaee-d8e2-46d7-8abe-d34c54f45392', content='', type='UserInputRequestedEvent'), TextMessage(id='214b7939-9d23-408e-a987-7555c61f78be', source='UserProxyAgent', models_usage=None, metadata={}, created_at=datetime.datetime(2025, 7, 15, 6, 10, 4, 947539, tzinfo=datetime.timezone.utc), content='approve', type='TextMessage'), ToolCallRequestEvent(id='abb4fbad-7479-4bcd-82d7-ed1ec7cf8659', source='WebSearchAgent', models_usage=RequestUsage(prompt_tokens=276, completion_tokens=89), metadata={}, created_at=datetime.datetime(2025, 7, 15, 6, 10, 6, 271384, tzinfo=datetime.timezone.utc), content=[FunctionCall(id='call_aVAK7UoWvlYaLJynnsudwKgm', arguments='{\"query\": \"2006-2007 season Miami Heat top scorer\"}', name='search_web_tool'), FunctionCall(id='call_0jIaFEk2kTM1GuccGMUFcG1S', arguments='{\"query\": \"2007-2008 Miami Heat team total rebounds\"}', name='search_web_tool'), FunctionCall(id='call_1vpDi7rVTaljH2uL6skHa5Fq', arguments='{\"query\": \"2008-2009 Miami Heat team total rebounds\"}', name='search_web_tool')], type='ToolCallRequestEvent'), ToolCallExecutionEvent(id='010b6c98-e4af-430f-b7da-be5c4e5f7104', source='WebSearchAgent', models_usage=None, metadata={}, created_at=datetime.datetime(2025, 7, 15, 6, 10, 6, 273259, tzinfo=datetime.timezone.utc), content=[FunctionExecutionResult(content='2006-2007 시즌 마이애미 히트 선수들이 득점한 총 득점은 다음과 같습니다:\\n        우도니스 하슬렘: 844점\\n        드웨인 웨이드: 1397점\\n        제임스 포시: 550점\\n        ...\\n        ', name='search_web_tool', call_id='call_aVAK7UoWvlYaLJynnsudwKgm', is_error=False), FunctionExecutionResult(content='2007-2008시즌 마이애미 히트에서 드웨인 웨이드가 기록한 총 리바운드 수는 214개입니다.', name='search_web_tool', call_id='call_0jIaFEk2kTM1GuccGMUFcG1S', is_error=False), FunctionExecutionResult(content='2008-2009 시즌 마이애미 히트에서 드웨인 웨이드가 기록한 총 리바운드 수는 398개입니다.', name='search_web_tool', call_id='call_1vpDi7rVTaljH2uL6skHa5Fq', is_error=False)], type='ToolCallExecutionEvent'), ToolCallSummaryMessage(id='71b319cc-fb5d-4ea5-8c19-a8444fac7b27', source='WebSearchAgent', models_usage=None, metadata={}, created_at=datetime.datetime(2025, 7, 15, 6, 10, 6, 273383, tzinfo=datetime.timezone.utc), content='2006-2007 시즌 마이애미 히트 선수들이 득점한 총 득점은 다음과 같습니다:\\n        우도니스 하슬렘: 844점\\n        드웨인 웨이드: 1397점\\n        제임스 포시: 550점\\n        ...\\n        \\n2007-2008시즌 마이애미 히트에서 드웨인 웨이드가 기록한 총 리바운드 수는 214개입니다.\\n2008-2009 시즌 마이애미 히트에서 드웨인 웨이드가 기록한 총 리바운드 수는 398개입니다.', type='ToolCallSummaryMessage', tool_calls=[FunctionCall(id='call_aVAK7UoWvlYaLJynnsudwKgm', arguments='{\"query\": \"2006-2007 season Miami Heat top scorer\"}', name='search_web_tool'), FunctionCall(id='call_0jIaFEk2kTM1GuccGMUFcG1S', arguments='{\"query\": \"2007-2008 Miami Heat team total rebounds\"}', name='search_web_tool'), FunctionCall(id='call_1vpDi7rVTaljH2uL6skHa5Fq', arguments='{\"query\": \"2008-2009 Miami Heat team total rebounds\"}', name='search_web_tool')], results=[FunctionExecutionResult(content='2006-2007 시즌 마이애미 히트 선수들이 득점한 총 득점은 다음과 같습니다:\\n        우도니스 하슬렘: 844점\\n        드웨인 웨이드: 1397점\\n        제임스 포시: 550점\\n        ...\\n        ', name='search_web_tool', call_id='call_aVAK7UoWvlYaLJynnsudwKgm', is_error=False), FunctionExecutionResult(content='2007-2008시즌 마이애미 히트에서 드웨인 웨이드가 기록한 총 리바운드 수는 214개입니다.', name='search_web_tool', call_id='call_0jIaFEk2kTM1GuccGMUFcG1S', is_error=False), FunctionExecutionResult(content='2008-2009 시즌 마이애미 히트에서 드웨인 웨이드가 기록한 총 리바운드 수는 398개입니다.', name='search_web_tool', call_id='call_1vpDi7rVTaljH2uL6skHa5Fq', is_error=False)]), TextMessage(id='4a15de6e-f312-4d65-b395-d988a5bec27d', source='PlanningAgent', models_usage=RequestUsage(prompt_tokens=439, completion_tokens=38), metadata={}, created_at=datetime.datetime(2025, 7, 15, 6, 10, 7, 167253, tzinfo=datetime.timezone.utc), content='4. DataAnalystAgent : 2007-2008 시즌과 2008-2009 시즌 드웨인 웨이드의 총 리바운드 변화율 계산', type='TextMessage'), UserInputRequestedEvent(id='08284996-2398-492c-9d0f-8d1cc4d62f52', source='UserProxyAgent', models_usage=None, metadata={}, created_at=datetime.datetime(2025, 7, 15, 6, 10, 7, 168573, tzinfo=datetime.timezone.utc), request_id='943a15f5-de52-4b38-b7cc-053f8ab9267e', content='', type='UserInputRequestedEvent'), TextMessage(id='11dcfdef-a247-4fbe-94a1-5678deedbd45', source='UserProxyAgent', models_usage=None, metadata={}, created_at=datetime.datetime(2025, 7, 15, 6, 10, 10, 674025, tzinfo=datetime.timezone.utc), content='approve', type='TextMessage'), ToolCallRequestEvent(id='75444f6d-858d-44c9-870d-1a8df9ecfe31', source='DataAnalystAgent', models_usage=RequestUsage(prompt_tokens=479, completion_tokens=21), metadata={}, created_at=datetime.datetime(2025, 7, 15, 6, 10, 11, 546047, tzinfo=datetime.timezone.utc), content=[FunctionCall(id='call_MkJnXG2hciL2rDpehE54UCsc', arguments='{\"start\":214,\"end\":398}', name='percentage_change_tool')], type='ToolCallRequestEvent'), ToolCallExecutionEvent(id='026a32fc-4661-48f8-96c6-ef22cfa3225c', source='DataAnalystAgent', models_usage=None, metadata={}, created_at=datetime.datetime(2025, 7, 15, 6, 10, 11, 547666, tzinfo=datetime.timezone.utc), content=[FunctionExecutionResult(content='85.98130841121495', name='percentage_change_tool', call_id='call_MkJnXG2hciL2rDpehE54UCsc', is_error=False)], type='ToolCallExecutionEvent'), ToolCallSummaryMessage(id='9f233309-02e6-484f-b257-9fb09c87094b', source='DataAnalystAgent', models_usage=None, metadata={}, created_at=datetime.datetime(2025, 7, 15, 6, 10, 11, 547795, tzinfo=datetime.timezone.utc), content='85.98130841121495', type='ToolCallSummaryMessage', tool_calls=[FunctionCall(id='call_MkJnXG2hciL2rDpehE54UCsc', arguments='{\"start\":214,\"end\":398}', name='percentage_change_tool')], results=[FunctionExecutionResult(content='85.98130841121495', name='percentage_change_tool', call_id='call_MkJnXG2hciL2rDpehE54UCsc', is_error=False)]), TextMessage(id='f244ab63-5e93-46b7-ae13-1027098f4e96', source='PlanningAgent', models_usage=RequestUsage(prompt_tokens=505, completion_tokens=94), metadata={}, created_at=datetime.datetime(2025, 7, 15, 6, 10, 13, 635511, tzinfo=datetime.timezone.utc), content='2006-2007 시즌 마이애미 히트에서 가장 많은 득점을 기록한 선수는 드웨인 웨이드로, 총 1397점을 기록했습니다.  \\n2007-2008 시즌과 2008-2009 시즌 드웨인 웨이드의 총 리바운드는 214개에서 398개로 증가했으며, 이는 약 85.98%의 변화율입니다.\\n\\nTERMINATE', type='TextMessage')], stop_reason=\"Text 'TERMINATE' mentioned\")"
                        ]
                    },
                    "execution_count": 27,
                    "metadata": {},
                    "output_type": "execute_result"
                }
            ],
            "source": [
                "user_proxy_agent = UserProxyAgent(\"UserProxyAgent\", description=\"A proxy for the user to approve or disapprove tasks.\")\n",
                "\n",
                "\n",
                "def selector_func_with_user_proxy(messages: Sequence[BaseAgentEvent | BaseChatMessage]) -> str | None:\n",
                "    if messages[-1].source != planning_agent.name and messages[-1].source != user_proxy_agent.name:\n",
                "        # Planning agent should be the first to engage when given a new task, or check progress.\n",
                "        return planning_agent.name\n",
                "    if messages[-1].source == planning_agent.name:\n",
                "        if messages[-2].source == user_proxy_agent.name and \"APPROVE\" in messages[-1].content.upper():  # type: ignore\n",
                "            # User has approved the plan, proceed to the next agent.\n",
                "            return None\n",
                "        # Use the user proxy agent to get the user's approval to proceed.\n",
                "        return user_proxy_agent.name\n",
                "    if messages[-1].source == user_proxy_agent.name:\n",
                "        # If the user does not approve, return to the planning agent.\n",
                "        if \"APPROVE\" not in messages[-1].content.upper():  # type: ignore\n",
                "            return planning_agent.name\n",
                "    return None\n",
                "\n",
                "\n",
                "# Reset the previous agents and run the chat again with the user proxy agent and selector function.\n",
                "await team.reset()\n",
                "team = SelectorGroupChat(\n",
                "    [planning_agent, web_search_agent, data_analyst_agent, user_proxy_agent],\n",
                "    model_client=model_client,\n",
                "    termination_condition=termination,\n",
                "    selector_prompt=selector_prompt,\n",
                "    selector_func=selector_func_with_user_proxy,\n",
                "    allow_repeated_speaker=True,\n",
                ")\n",
                "\n",
                "await Console(team.run_stream(task=task))"
            ]
        },
        {
            "cell_type": "markdown",
            "metadata": {},
            "source": [
                "이제 사용자의 피드백이 대화 흐름에 통합되고, 사용자가 계획 에이전트의 결정을 승인하거나 거부할 수 있습니다."
            ]
        },
        {
            "cell_type": "markdown",
            "metadata": {},
            "source": [
                "## 추론 모델 사용\n",
                "\n",
                "지금까지 예제에서는 `gpt-4o` 모델을 사용했습니다. `gpt-4o`와 `gemini-1.5-flash` 같은 모델은 지시사항을 잘 따르므로, 팀의 선택자 프롬프트와 각 에이전트의 시스템 메시지에 상대적으로 자세한 지시사항을 포함하여 그들의 행동을 안내할 수 있습니다.\n",
                "\n",
                "하지만 `o3-mini`와 같은 추론 모델을 사용하는 경우, 선택자 프롬프트와 시스템 메시지를 가능한 한 간단하고 요점에 맞게 유지해야 합니다. 추론 모델은 이미 제공된 컨텍스트를 바탕으로 자체 지시사항을 도출하는 데 뛰어나기 때문입니다.\n",
                "\n",
                "이것은 또한 추론 모델을 사용하는 {py:class}`~autogen_agentchat.teams.SelectorGroupChat`가 자체적으로 그 작업을 수행할 수 있으므로 더 이상 작업을 나누기 위한 계획 에이전트가 필요하지 않다는 의미입니다.\n",
                "\n",
                "다음 예제에서는 에이전트와 팀의 모델로 `o3-mini`를 사용하고, 계획 에이전트는 사용하지 않겠습니다.\n",
                "또한 선택자 프롬프트와 시스템 메시지를 가능한 한 간단하게 유지하겠습니다."
            ]
        },
        {
            "cell_type": "code",
            "execution_count": 28,
            "metadata": {},
            "outputs": [],
            "source": [
                "reasoning_deployment_name = os.getenv(\"AZURE_OPENAI_REASONING_DEPLOYMENT_NAME\") \n",
                "\n",
                "azure_openai_chat_completion_client = AzureOpenAIChatCompletionClient(\n",
                "            model=reasoning_deployment_name,\n",
                "            azure_endpoint=azure_endpoint,\n",
                "            api_version=\"2024-12-01-preview\",\n",
                "            api_key=api_key\n",
                ")\n",
                "\n",
                "\n",
                "model_client = azure_openai_chat_completion_client\n",
                "\n",
                "web_search_agent = AssistantAgent(\n",
                "    \"WebSearchAgent\",\n",
                "    description=\"An agent for searching information on the web.\",\n",
                "    tools=[search_web_tool],\n",
                "    model_client=model_client,\n",
                "    system_message=\"\"\"Use web search tool to find information.\"\"\",\n",
                ")\n",
                "\n",
                "data_analyst_agent = AssistantAgent(\n",
                "    \"DataAnalystAgent\",\n",
                "    description=\"An agent for performing calculations.\",\n",
                "    model_client=model_client,\n",
                "    tools=[percentage_change_tool],\n",
                "    system_message=\"\"\"Use tool to perform calculation. If you have not seen the data, ask for it.\"\"\",\n",
                ")\n",
                "\n",
                "user_proxy_agent = UserProxyAgent(\n",
                "    \"UserProxyAgent\",\n",
                "    description=\"A user to approve or disapprove tasks.\",\n",
                ")\n",
                "\n",
                "selector_prompt = \"\"\"Select an agent to perform task.\n",
                "\n",
                "{roles}\n",
                "\n",
                "Current conversation context:\n",
                "{history}\n",
                "\n",
                "Read the above conversation, then select an agent from {participants} to perform the next task.\n",
                "When the task is complete, let the user approve or disapprove the task.\n",
                "\"\"\"\n",
                "\n",
                "team = SelectorGroupChat(\n",
                "    [web_search_agent, data_analyst_agent, user_proxy_agent],\n",
                "    model_client=model_client,\n",
                "    termination_condition=termination,  # Use the same termination condition as before.\n",
                "    selector_prompt=selector_prompt,\n",
                "    allow_repeated_speaker=True,\n",
                ")"
            ]
        },
        {
            "cell_type": "code",
            "execution_count": 29,
            "metadata": {},
            "outputs": [
                {
                    "name": "stdout",
                    "output_type": "stream",
                    "text": [
                        "---------- TextMessage (user) ----------\n",
                        "2006-2007 시즌에 가장 많은 득점을 기록한 마이애미 히트 선수는 누구이며, 2007-2008 시즌과 2008-2009 시즌의 총 리바운드 변화율은 얼마였나요?\n",
                        "---------- ToolCallRequestEvent (WebSearchAgent) ----------\n",
                        "[FunctionCall(id='call_DLbKUiH4saBVt13XvOIWOCx9', arguments='{\"query\": \"2006-2007 시즌에 가장 많은 득점을 기록한 마이애미 히트 선수 그리고 2007-2008 시즌과 2008-2009 시즌의 총 리바운드 변화율은 얼마인가? \\\\\"2006-07 Miami Heat top scorer and rebound percentage change 2007-2008 vs 2008-2009\\\\\"\"}', name='search_web_tool')]\n",
                        "---------- ToolCallExecutionEvent (WebSearchAgent) ----------\n",
                        "[FunctionExecutionResult(content='2006-2007 시즌 마이애미 히트 선수들이 득점한 총 득점은 다음과 같습니다:\\n        우도니스 하슬렘: 844점\\n        드웨인 웨이드: 1397점\\n        제임스 포시: 550점\\n        ...\\n        ', name='search_web_tool', call_id='call_DLbKUiH4saBVt13XvOIWOCx9', is_error=False)]\n",
                        "---------- ToolCallSummaryMessage (WebSearchAgent) ----------\n",
                        "2006-2007 시즌 마이애미 히트 선수들이 득점한 총 득점은 다음과 같습니다:\n",
                        "        우도니스 하슬렘: 844점\n",
                        "        드웨인 웨이드: 1397점\n",
                        "        제임스 포시: 550점\n",
                        "        ...\n",
                        "        \n",
                        "---------- ToolCallRequestEvent (WebSearchAgent) ----------\n",
                        "[FunctionCall(id='call_0bd9XbBqnFLorUINe8Z2z8pO', arguments='{\"query\": \"2007-2008 시즌과 2008-2009 시즌 마이애미 히트 총 리바운드 변화율 정보\"}', name='search_web_tool')]\n",
                        "---------- ToolCallExecutionEvent (WebSearchAgent) ----------\n",
                        "[FunctionExecutionResult(content='2007-2008시즌 마이애미 히트에서 드웨인 웨이드가 기록한 총 리바운드 수는 214개입니다.', name='search_web_tool', call_id='call_0bd9XbBqnFLorUINe8Z2z8pO', is_error=False)]\n",
                        "---------- ToolCallSummaryMessage (WebSearchAgent) ----------\n",
                        "2007-2008시즌 마이애미 히트에서 드웨인 웨이드가 기록한 총 리바운드 수는 214개입니다.\n",
                        "---------- ToolCallRequestEvent (WebSearchAgent) ----------\n",
                        "[FunctionCall(id='call_r8IvnSTo3fTt5sOH5Qu2xSvC', arguments='{\"query\": \"2008-2009 시즌 마이애미 히트 총 리바운드 수 드웨인 웨이드\"}', name='search_web_tool')]\n",
                        "---------- ToolCallExecutionEvent (WebSearchAgent) ----------\n",
                        "[FunctionExecutionResult(content='2008-2009 시즌 마이애미 히트에서 드웨인 웨이드가 기록한 총 리바운드 수는 398개입니다.', name='search_web_tool', call_id='call_r8IvnSTo3fTt5sOH5Qu2xSvC', is_error=False)]\n",
                        "---------- ToolCallSummaryMessage (WebSearchAgent) ----------\n",
                        "2008-2009 시즌 마이애미 히트에서 드웨인 웨이드가 기록한 총 리바운드 수는 398개입니다.\n",
                        "---------- ToolCallRequestEvent (DataAnalystAgent) ----------\n",
                        "[FunctionCall(id='call_qZYRIATvi2tOB0RCDqjjflRZ', arguments='{\"start\": 214, \"end\": 398}', name='percentage_change_tool')]\n",
                        "---------- ToolCallExecutionEvent (DataAnalystAgent) ----------\n",
                        "[FunctionExecutionResult(content='85.98130841121495', name='percentage_change_tool', call_id='call_qZYRIATvi2tOB0RCDqjjflRZ', is_error=False)]\n",
                        "---------- ToolCallSummaryMessage (DataAnalystAgent) ----------\n",
                        "85.98130841121495\n",
                        "---------- TextMessage (DataAnalystAgent) ----------\n",
                        "2006-2007 시즌의 최고 득점 선수는 드웨인 웨이드이며, 2007-2008 시즌과 2008-2009 시즌의 총 리바운드 변화율은 약 85.98%입니다.\n",
                        "---------- TextMessage (DataAnalystAgent) ----------\n",
                        "2006-2007 시즌 마이애미 히트에서 가장 많은 득점을 기록한 선수는 드웨인 웨이드입니다. 또한, 2007-2008 시즌에 드웨인 웨이드가 기록한 총 리바운드는 214개였고, 2008-2009 시즌에는 398개였습니다. 이 두 시즌 간 리바운드 수의 변화율은 약 85.98%입니다.\n",
                        "---------- TextMessage (DataAnalystAgent) ----------\n",
                        "2006-2007 시즌 마이애미 히트에서 가장 많은 득점을 기록한 선수는 드웨인 웨이드입니다. 또한, 2007-2008 시즌에 드웨인 웨이드가 기록한 총 리바운드는 214개, 2008-2009 시즌에는 398개로 나타났습니다. 이에 따른 총 리바운드 변화율은 약 85.98%입니다.\n",
                        "---------- TextMessage (DataAnalystAgent) ----------\n",
                        "2006-2007 시즌의 최고 득점 선수는 드웨인 웨이드입니다. 그리고 2007-2008 시즌(214개)에서 2008-2009 시즌(398개)으로의 리바운드 변화율은 약 85.98%입니다.\n",
                        "---------- TextMessage (UserProxyAgent) ----------\n",
                        "approve\n",
                        "---------- TextMessage (DataAnalystAgent) ----------\n",
                        "2006-2007 시즌 마이애미 히트에서 가장 많은 득점을 기록한 선수는 드웨인 웨이드입니다. 또한, 드웨인 웨이드가 2007-2008 시즌에 기록한 총 리바운드는 214개이며, 2008-2009 시즌에 398개를 기록하여 약 85.98%의 변화율을 보였습니다.\n",
                        "---------- TextMessage (DataAnalystAgent) ----------\n",
                        "2006-2007 시즌 마이애미 히트에서 가장 많은 득점을 기록한 선수는 드웨인 웨이드입니다. 또한, 드웨인 웨이드는 2007-2008 시즌에 214개의 리바운드를 기록했고, 2008-2009 시즌에는 398개의 리바운드를 기록하여 두 시즌 간 리바운드 변화율이 약 85.98%에 달했습니다.\n",
                        "---------- TextMessage (DataAnalystAgent) ----------\n",
                        "2006-2007 시즌 마이애미 히트의 최고 득점 선수는 드웨인 웨이드이며, 드웨인 웨이드는 2007-2008 시즌에 214개의 리바운드를 기록했으며, 2008-2009 시즌에는 398개의 리바운드를 기록했습니다. 따라서, 이 두 시즌 간의 리바운드 변화율은 약 85.98%입니다.\n",
                        "---------- TextMessage (DataAnalystAgent) ----------\n",
                        "2006-2007 시즌 마이애미 히트의 최고 득점 선수는 드웨인 웨이드입니다. 또한, 드웨인 웨이드는 2007-2008 시즌에 214개의 리바운드를 기록했고, 2008-2009 시즌에는 398개의 리바운드를 기록했습니다. 이를 토대로 두 시즌 간 리바운드 변화율은 약 85.98%로 계산됩니다.\n",
                        "---------- TextMessage (DataAnalystAgent) ----------\n",
                        "2006-2007 시즌 마이애미 히트의 최고 득점 선수는 드웨인 웨이드입니다. 또한, 2007-2008 시즌에 드웨인 웨이드는 214개의 리바운드를, 2008-2009 시즌에는 398개의 리바운드를 기록하여, 두 시즌 간의 리바운드 변화율은 약 85.98%로 계산됩니다.\n",
                        "---------- TextMessage (DataAnalystAgent) ----------\n",
                        "2006-2007 시즌 마이애미 히트의 최고 득점 선수는 드웨인 웨이드이며, 2007-2008 시즌에 드웨인 웨이드는 214개의 리바운드를, 2008-2009 시즌에는 398개의 리바운드를 기록했습니다. 이로 인해 두 시즌 간의 리바운드 변화율은 약 85.98%입니다.\n",
                        "---------- TextMessage (DataAnalystAgent) ----------\n",
                        "2006-2007 시즌 마이애미 히트의 최고 득점 선수는 드웨인 웨이드입니다. 또한, 드웨인 웨이드는 2007-2008 시즌에 214개의 리바운드를 기록했고, 2008-2009 시즌에는 398개의 리바운드를 기록했습니다. 이에 따른 리바운드 변화율은 약 85.98%입니다.\n"
                    ]
                },
                {
                    "name": "stderr",
                    "output_type": "stream",
                    "text": [
                        "Model failed to select a speaker after 3, using the previous speaker.\n"
                    ]
                },
                {
                    "name": "stdout",
                    "output_type": "stream",
                    "text": [
                        "---------- TextMessage (DataAnalystAgent) ----------\n",
                        "2006-2007 시즌 마이애미 히트의 최고 득점 선수는 드웨인 웨이드입니다. 또한, 드웨인 웨이드는 2007-2008 시즌에 214개의 리바운드를, 2008-2009 시즌에는 398개의 리바운드를 기록하여, 두 시즌 간의 리바운드 변화율은 약 85.98%로 나타났습니다.\n",
                        "---------- TextMessage (DataAnalystAgent) ----------\n",
                        "2006-2007 시즌 마이애미 히트의 최고 득점 선수는 드웨인 웨이드입니다. 또한, 2007-2008 시즌에 드웨인 웨이드는 214개의 리바운드를, 2008-2009 시즌에는 398개의 리바운드를 기록했습니다. 이로 인해 두 시즌 간 리바운드 변화율은 약 85.98%입니다.\n",
                        "---------- TextMessage (DataAnalystAgent) ----------\n",
                        "2006-2007 시즌 마이애미 히트의 최고 득점 선수는 드웨인 웨이드입니다. 또한, 웨이드는 2007-2008 시즌에 214개의 리바운드를, 2008-2009 시즌에는 398개의 리바운드를 기록했으며, 두 시즌 간 리바운드 변화율은 약 85.98%입니다.\n",
                        "---------- TextMessage (DataAnalystAgent) ----------\n",
                        "2006-2007 시즌 마이애미 히트의 최고 득점 선수는 드웨인 웨이드입니다. 또한, 웨이드는 2007-2008 시즌에 214개의 리바운드를, 2008-2009 시즌에는 398개의 리바운드를 기록했으며, 두 시즌 간 리바운드 변화율은 약 85.98%입니다.\n",
                        "---------- TextMessage (DataAnalystAgent) ----------\n",
                        "2006-2007 시즌 마이애미 히트의 최고 득점 선수는 드웨인 웨이드입니다. 또한, 웨이드는 2007-2008 시즌에 214개의 리바운드를 기록했고, 2008-2009 시즌에는 398개의 리바운드를 기록했습니다. 이를 바탕으로 두 시즌 간 리바운드 변화율은 약 85.98%로 계산됩니다.\n",
                        "---------- TextMessage (DataAnalystAgent) ----------\n",
                        "2006-2007 시즌 마이애미 히트의 최고 득점 선수는 드웨인 웨이드입니다. 또한, 웨이드는 2007-2008 시즌에 214개의 리바운드를 기록했고, 2008-2009 시즌에는 398개의 리바운드를 기록했습니다. 이를 바탕으로 두 시즌 간 리바운드 변화율은 약 85.98%로 계산됩니다.\n"
                    ]
                },
                {
                    "name": "stderr",
                    "output_type": "stream",
                    "text": [
                        "Model failed to select a speaker after 3, using the previous speaker.\n"
                    ]
                },
                {
                    "name": "stdout",
                    "output_type": "stream",
                    "text": [
                        "---------- TextMessage (DataAnalystAgent) ----------\n",
                        "2006-2007 시즌 마이애미 히트의 최고 득점 선수는 드웨인 웨이드이며, 2007-2008 시즌에 웨이드는 214개의 리바운드를 기록했습니다. 이후, 2008-2009 시즌에는 398개의 리바운드를 기록하여 두 시즌 간 리바운드 변화율이 약 85.98%임을 알 수 있습니다.\n",
                        "---------- TextMessage (DataAnalystAgent) ----------\n",
                        "2006-2007 시즌 마이애미 히트의 최고 득점 선수는 드웨인 웨이드입니다. 또한, 웨이드는 2007-2008 시즌에 214개의 리바운드를 기록했고, 2008-2009 시즌에는 398개의 리바운드를 기록했습니다. 이를 바탕으로 두 시즌 간 리바운드 변화율은 약 85.98%로 계산됩니다.\n"
                    ]
                },
                {
                    "data": {
                        "text/plain": [
                            "TaskResult(messages=[TextMessage(id='745feb01-53a8-49af-804a-d30a54cd384a', source='user', models_usage=None, metadata={}, created_at=datetime.datetime(2025, 7, 15, 6, 10, 20, 260652, tzinfo=datetime.timezone.utc), content='2006-2007 시즌에 가장 많은 득점을 기록한 마이애미 히트 선수는 누구이며, 2007-2008 시즌과 2008-2009 시즌의 총 리바운드 변화율은 얼마였나요?', type='TextMessage'), ToolCallRequestEvent(id='d7921caf-381c-4762-8c60-1f78e697204f', source='WebSearchAgent', models_usage=RequestUsage(prompt_tokens=110, completion_tokens=292), metadata={}, created_at=datetime.datetime(2025, 7, 15, 6, 10, 29, 220844, tzinfo=datetime.timezone.utc), content=[FunctionCall(id='call_DLbKUiH4saBVt13XvOIWOCx9', arguments='{\"query\": \"2006-2007 시즌에 가장 많은 득점을 기록한 마이애미 히트 선수 그리고 2007-2008 시즌과 2008-2009 시즌의 총 리바운드 변화율은 얼마인가? \\\\\"2006-07 Miami Heat top scorer and rebound percentage change 2007-2008 vs 2008-2009\\\\\"\"}', name='search_web_tool')], type='ToolCallRequestEvent'), ToolCallExecutionEvent(id='c0fa0bac-8839-4223-800f-f32a68b4608d', source='WebSearchAgent', models_usage=None, metadata={}, created_at=datetime.datetime(2025, 7, 15, 6, 10, 29, 222474, tzinfo=datetime.timezone.utc), content=[FunctionExecutionResult(content='2006-2007 시즌 마이애미 히트 선수들이 득점한 총 득점은 다음과 같습니다:\\n        우도니스 하슬렘: 844점\\n        드웨인 웨이드: 1397점\\n        제임스 포시: 550점\\n        ...\\n        ', name='search_web_tool', call_id='call_DLbKUiH4saBVt13XvOIWOCx9', is_error=False)], type='ToolCallExecutionEvent'), ToolCallSummaryMessage(id='de6a7030-a039-4abc-b1cd-83afa987c98b', source='WebSearchAgent', models_usage=None, metadata={}, created_at=datetime.datetime(2025, 7, 15, 6, 10, 29, 222612, tzinfo=datetime.timezone.utc), content='2006-2007 시즌 마이애미 히트 선수들이 득점한 총 득점은 다음과 같습니다:\\n        우도니스 하슬렘: 844점\\n        드웨인 웨이드: 1397점\\n        제임스 포시: 550점\\n        ...\\n        ', type='ToolCallSummaryMessage', tool_calls=[FunctionCall(id='call_DLbKUiH4saBVt13XvOIWOCx9', arguments='{\"query\": \"2006-2007 시즌에 가장 많은 득점을 기록한 마이애미 히트 선수 그리고 2007-2008 시즌과 2008-2009 시즌의 총 리바운드 변화율은 얼마인가? \\\\\"2006-07 Miami Heat top scorer and rebound percentage change 2007-2008 vs 2008-2009\\\\\"\"}', name='search_web_tool')], results=[FunctionExecutionResult(content='2006-2007 시즌 마이애미 히트 선수들이 득점한 총 득점은 다음과 같습니다:\\n        우도니스 하슬렘: 844점\\n        드웨인 웨이드: 1397점\\n        제임스 포시: 550점\\n        ...\\n        ', name='search_web_tool', call_id='call_DLbKUiH4saBVt13XvOIWOCx9', is_error=False)]), ToolCallRequestEvent(id='5bf88644-aafc-4bc5-970f-3b96aec81b2f', source='WebSearchAgent', models_usage=RequestUsage(prompt_tokens=276, completion_tokens=326), metadata={}, created_at=datetime.datetime(2025, 7, 15, 6, 10, 51, 200367, tzinfo=datetime.timezone.utc), content=[FunctionCall(id='call_0bd9XbBqnFLorUINe8Z2z8pO', arguments='{\"query\": \"2007-2008 시즌과 2008-2009 시즌 마이애미 히트 총 리바운드 변화율 정보\"}', name='search_web_tool')], type='ToolCallRequestEvent'), ToolCallExecutionEvent(id='62dc4b8f-4739-4aea-987e-858cbe053a11', source='WebSearchAgent', models_usage=None, metadata={}, created_at=datetime.datetime(2025, 7, 15, 6, 10, 51, 202825, tzinfo=datetime.timezone.utc), content=[FunctionExecutionResult(content='2007-2008시즌 마이애미 히트에서 드웨인 웨이드가 기록한 총 리바운드 수는 214개입니다.', name='search_web_tool', call_id='call_0bd9XbBqnFLorUINe8Z2z8pO', is_error=False)], type='ToolCallExecutionEvent'), ToolCallSummaryMessage(id='ec553a82-c955-4442-a900-e8f51a880e05', source='WebSearchAgent', models_usage=None, metadata={}, created_at=datetime.datetime(2025, 7, 15, 6, 10, 51, 203000, tzinfo=datetime.timezone.utc), content='2007-2008시즌 마이애미 히트에서 드웨인 웨이드가 기록한 총 리바운드 수는 214개입니다.', type='ToolCallSummaryMessage', tool_calls=[FunctionCall(id='call_0bd9XbBqnFLorUINe8Z2z8pO', arguments='{\"query\": \"2007-2008 시즌과 2008-2009 시즌 마이애미 히트 총 리바운드 변화율 정보\"}', name='search_web_tool')], results=[FunctionExecutionResult(content='2007-2008시즌 마이애미 히트에서 드웨인 웨이드가 기록한 총 리바운드 수는 214개입니다.', name='search_web_tool', call_id='call_0bd9XbBqnFLorUINe8Z2z8pO', is_error=False)]), ToolCallRequestEvent(id='eec06ce0-95bb-4660-95cb-c3663d6fafaa', source='WebSearchAgent', models_usage=RequestUsage(prompt_tokens=362, completion_tokens=444), metadata={}, created_at=datetime.datetime(2025, 7, 15, 6, 11, 12, 661398, tzinfo=datetime.timezone.utc), content=[FunctionCall(id='call_r8IvnSTo3fTt5sOH5Qu2xSvC', arguments='{\"query\": \"2008-2009 시즌 마이애미 히트 총 리바운드 수 드웨인 웨이드\"}', name='search_web_tool')], type='ToolCallRequestEvent'), ToolCallExecutionEvent(id='af382966-ffa7-448d-b319-bf70e044bd6f', source='WebSearchAgent', models_usage=None, metadata={}, created_at=datetime.datetime(2025, 7, 15, 6, 11, 12, 663758, tzinfo=datetime.timezone.utc), content=[FunctionExecutionResult(content='2008-2009 시즌 마이애미 히트에서 드웨인 웨이드가 기록한 총 리바운드 수는 398개입니다.', name='search_web_tool', call_id='call_r8IvnSTo3fTt5sOH5Qu2xSvC', is_error=False)], type='ToolCallExecutionEvent'), ToolCallSummaryMessage(id='9056dc39-e317-4376-9650-b016daef16ad', source='WebSearchAgent', models_usage=None, metadata={}, created_at=datetime.datetime(2025, 7, 15, 6, 11, 12, 663999, tzinfo=datetime.timezone.utc), content='2008-2009 시즌 마이애미 히트에서 드웨인 웨이드가 기록한 총 리바운드 수는 398개입니다.', type='ToolCallSummaryMessage', tool_calls=[FunctionCall(id='call_r8IvnSTo3fTt5sOH5Qu2xSvC', arguments='{\"query\": \"2008-2009 시즌 마이애미 히트 총 리바운드 수 드웨인 웨이드\"}', name='search_web_tool')], results=[FunctionExecutionResult(content='2008-2009 시즌 마이애미 히트에서 드웨인 웨이드가 기록한 총 리바운드 수는 398개입니다.', name='search_web_tool', call_id='call_r8IvnSTo3fTt5sOH5Qu2xSvC', is_error=False)]), ToolCallRequestEvent(id='34876fe2-ab13-4a15-b285-877c862e82ca', source='DataAnalystAgent', models_usage=RequestUsage(prompt_tokens=292, completion_tokens=479), metadata={}, created_at=datetime.datetime(2025, 7, 15, 6, 11, 20, 619688, tzinfo=datetime.timezone.utc), content=[FunctionCall(id='call_qZYRIATvi2tOB0RCDqjjflRZ', arguments='{\"start\": 214, \"end\": 398}', name='percentage_change_tool')], type='ToolCallRequestEvent'), ToolCallExecutionEvent(id='d459b9d7-7d85-4a24-9779-13abae0dfcb6', source='DataAnalystAgent', models_usage=None, metadata={}, created_at=datetime.datetime(2025, 7, 15, 6, 11, 20, 621921, tzinfo=datetime.timezone.utc), content=[FunctionExecutionResult(content='85.98130841121495', name='percentage_change_tool', call_id='call_qZYRIATvi2tOB0RCDqjjflRZ', is_error=False)], type='ToolCallExecutionEvent'), ToolCallSummaryMessage(id='d54b2522-321f-400e-8d46-68a7944d80bc', source='DataAnalystAgent', models_usage=None, metadata={}, created_at=datetime.datetime(2025, 7, 15, 6, 11, 20, 622131, tzinfo=datetime.timezone.utc), content='85.98130841121495', type='ToolCallSummaryMessage', tool_calls=[FunctionCall(id='call_qZYRIATvi2tOB0RCDqjjflRZ', arguments='{\"start\": 214, \"end\": 398}', name='percentage_change_tool')], results=[FunctionExecutionResult(content='85.98130841121495', name='percentage_change_tool', call_id='call_qZYRIATvi2tOB0RCDqjjflRZ', is_error=False)]), TextMessage(id='712dc1cc-4c33-4629-a8c6-a3d852a2808f', source='DataAnalystAgent', models_usage=RequestUsage(prompt_tokens=328, completion_tokens=449), metadata={}, created_at=datetime.datetime(2025, 7, 15, 6, 11, 37, 21456, tzinfo=datetime.timezone.utc), content='2006-2007 시즌의 최고 득점 선수는 드웨인 웨이드이며, 2007-2008 시즌과 2008-2009 시즌의 총 리바운드 변화율은 약 85.98%입니다.', type='TextMessage'), TextMessage(id='3d3edc25-ceb6-455e-a9ef-adb232576cf2', source='DataAnalystAgent', models_usage=RequestUsage(prompt_tokens=385, completion_tokens=193), metadata={}, created_at=datetime.datetime(2025, 7, 15, 6, 11, 45, 653389, tzinfo=datetime.timezone.utc), content='2006-2007 시즌 마이애미 히트에서 가장 많은 득점을 기록한 선수는 드웨인 웨이드입니다. 또한, 2007-2008 시즌에 드웨인 웨이드가 기록한 총 리바운드는 214개였고, 2008-2009 시즌에는 398개였습니다. 이 두 시즌 간 리바운드 수의 변화율은 약 85.98%입니다.', type='TextMessage'), TextMessage(id='622ed57c-5350-441e-81cb-c68b344e4afd', source='DataAnalystAgent', models_usage=RequestUsage(prompt_tokens=484, completion_tokens=190), metadata={}, created_at=datetime.datetime(2025, 7, 15, 6, 11, 54, 636197, tzinfo=datetime.timezone.utc), content='2006-2007 시즌 마이애미 히트에서 가장 많은 득점을 기록한 선수는 드웨인 웨이드입니다. 또한, 2007-2008 시즌에 드웨인 웨이드가 기록한 총 리바운드는 214개, 2008-2009 시즌에는 398개로 나타났습니다. 이에 따른 총 리바운드 변화율은 약 85.98%입니다.', type='TextMessage'), TextMessage(id='04f1507d-4e95-4cbd-9817-7b1898636da5', source='DataAnalystAgent', models_usage=RequestUsage(prompt_tokens=581, completion_tokens=128), metadata={}, created_at=datetime.datetime(2025, 7, 15, 6, 12, 1, 463285, tzinfo=datetime.timezone.utc), content='2006-2007 시즌의 최고 득점 선수는 드웨인 웨이드입니다. 그리고 2007-2008 시즌(214개)에서 2008-2009 시즌(398개)으로의 리바운드 변화율은 약 85.98%입니다.', type='TextMessage'), UserInputRequestedEvent(id='35df7bcd-0f58-456b-ae1c-a37a10aecabd', source='UserProxyAgent', models_usage=None, metadata={}, created_at=datetime.datetime(2025, 7, 15, 6, 12, 9, 6152, tzinfo=datetime.timezone.utc), request_id='379af942-a2bf-4c64-9f25-2c2079e38268', content='', type='UserInputRequestedEvent'), TextMessage(id='ace73af7-e44f-4b7c-bbf7-47a540807022', source='UserProxyAgent', models_usage=None, metadata={}, created_at=datetime.datetime(2025, 7, 15, 6, 12, 53, 892699, tzinfo=datetime.timezone.utc), content='approve', type='TextMessage'), TextMessage(id='7989bce1-7881-4255-9b3e-86bee997329d', source='DataAnalystAgent', models_usage=RequestUsage(prompt_tokens=656, completion_tokens=99), metadata={}, created_at=datetime.datetime(2025, 7, 15, 6, 12, 59, 955306, tzinfo=datetime.timezone.utc), content='2006-2007 시즌 마이애미 히트에서 가장 많은 득점을 기록한 선수는 드웨인 웨이드입니다. 또한, 드웨인 웨이드가 2007-2008 시즌에 기록한 총 리바운드는 214개이며, 2008-2009 시즌에 398개를 기록하여 약 85.98%의 변화율을 보였습니다.', type='TextMessage'), TextMessage(id='e3ca6d0e-49b2-4699-b1d8-89763e72f1f3', source='DataAnalystAgent', models_usage=RequestUsage(prompt_tokens=747, completion_tokens=1259), metadata={}, created_at=datetime.datetime(2025, 7, 15, 6, 13, 12, 387471, tzinfo=datetime.timezone.utc), content='2006-2007 시즌 마이애미 히트에서 가장 많은 득점을 기록한 선수는 드웨인 웨이드입니다. 또한, 드웨인 웨이드는 2007-2008 시즌에 214개의 리바운드를 기록했고, 2008-2009 시즌에는 398개의 리바운드를 기록하여 두 시즌 간 리바운드 변화율이 약 85.98%에 달했습니다.', type='TextMessage'), TextMessage(id='56a3d665-ac7f-4c89-bd14-588bc89e2c29', source='DataAnalystAgent', models_usage=RequestUsage(prompt_tokens=846, completion_tokens=192), metadata={}, created_at=datetime.datetime(2025, 7, 15, 6, 13, 32, 300990, tzinfo=datetime.timezone.utc), content='2006-2007 시즌 마이애미 히트의 최고 득점 선수는 드웨인 웨이드이며, 드웨인 웨이드는 2007-2008 시즌에 214개의 리바운드를 기록했으며, 2008-2009 시즌에는 398개의 리바운드를 기록했습니다. 따라서, 이 두 시즌 간의 리바운드 변화율은 약 85.98%입니다.', type='TextMessage'), TextMessage(id='b27d2c5d-d550-4461-a5c2-694c4c85508c', source='DataAnalystAgent', models_usage=RequestUsage(prompt_tokens=944, completion_tokens=108), metadata={}, created_at=datetime.datetime(2025, 7, 15, 6, 13, 37, 520647, tzinfo=datetime.timezone.utc), content='2006-2007 시즌 마이애미 히트의 최고 득점 선수는 드웨인 웨이드입니다. 또한, 드웨인 웨이드는 2007-2008 시즌에 214개의 리바운드를 기록했고, 2008-2009 시즌에는 398개의 리바운드를 기록했습니다. 이를 토대로 두 시즌 간 리바운드 변화율은 약 85.98%로 계산됩니다.', type='TextMessage'), TextMessage(id='65b36dd4-81e2-469d-a712-d76458906bfa', source='DataAnalystAgent', models_usage=RequestUsage(prompt_tokens=1044, completion_tokens=168), metadata={}, created_at=datetime.datetime(2025, 7, 15, 6, 13, 41, 20305, tzinfo=datetime.timezone.utc), content='2006-2007 시즌 마이애미 히트의 최고 득점 선수는 드웨인 웨이드입니다. 또한, 2007-2008 시즌에 드웨인 웨이드는 214개의 리바운드를, 2008-2009 시즌에는 398개의 리바운드를 기록하여, 두 시즌 간의 리바운드 변화율은 약 85.98%로 계산됩니다.', type='TextMessage'), TextMessage(id='3e48a5c3-f42c-4c98-9947-63551456eb04', source='DataAnalystAgent', models_usage=RequestUsage(prompt_tokens=1140, completion_tokens=103), metadata={}, created_at=datetime.datetime(2025, 7, 15, 6, 13, 44, 480389, tzinfo=datetime.timezone.utc), content='2006-2007 시즌 마이애미 히트의 최고 득점 선수는 드웨인 웨이드이며, 2007-2008 시즌에 드웨인 웨이드는 214개의 리바운드를, 2008-2009 시즌에는 398개의 리바운드를 기록했습니다. 이로 인해 두 시즌 간의 리바운드 변화율은 약 85.98%입니다.', type='TextMessage'), TextMessage(id='b2efa7df-a135-4e55-9e17-5651c18f96e7', source='DataAnalystAgent', models_usage=RequestUsage(prompt_tokens=1235, completion_tokens=184), metadata={}, created_at=datetime.datetime(2025, 7, 15, 6, 13, 51, 20954, tzinfo=datetime.timezone.utc), content='2006-2007 시즌 마이애미 히트의 최고 득점 선수는 드웨인 웨이드입니다. 또한, 드웨인 웨이드는 2007-2008 시즌에 214개의 리바운드를 기록했고, 2008-2009 시즌에는 398개의 리바운드를 기록했습니다. 이에 따른 리바운드 변화율은 약 85.98%입니다.', type='TextMessage'), TextMessage(id='d2db0124-48f6-4725-b0a9-de16cbf1f5e4', source='DataAnalystAgent', models_usage=RequestUsage(prompt_tokens=1329, completion_tokens=190), metadata={}, created_at=datetime.datetime(2025, 7, 15, 6, 13, 59, 989005, tzinfo=datetime.timezone.utc), content='2006-2007 시즌 마이애미 히트의 최고 득점 선수는 드웨인 웨이드입니다. 또한, 드웨인 웨이드는 2007-2008 시즌에 214개의 리바운드를, 2008-2009 시즌에는 398개의 리바운드를 기록하여, 두 시즌 간의 리바운드 변화율은 약 85.98%로 나타났습니다.', type='TextMessage'), TextMessage(id='995bf5fc-c253-4bb8-a95b-5662b1f9546d', source='DataAnalystAgent', models_usage=RequestUsage(prompt_tokens=1426, completion_tokens=188), metadata={}, created_at=datetime.datetime(2025, 7, 15, 6, 14, 10, 505621, tzinfo=datetime.timezone.utc), content='2006-2007 시즌 마이애미 히트의 최고 득점 선수는 드웨인 웨이드입니다. 또한, 2007-2008 시즌에 드웨인 웨이드는 214개의 리바운드를, 2008-2009 시즌에는 398개의 리바운드를 기록했습니다. 이로 인해 두 시즌 간 리바운드 변화율은 약 85.98%입니다.', type='TextMessage'), TextMessage(id='3cc9f42a-608b-4579-8d19-dfa5b3cc782e', source='DataAnalystAgent', models_usage=RequestUsage(prompt_tokens=1522, completion_tokens=163), metadata={}, created_at=datetime.datetime(2025, 7, 15, 6, 14, 15, 10918, tzinfo=datetime.timezone.utc), content='2006-2007 시즌 마이애미 히트의 최고 득점 선수는 드웨인 웨이드입니다. 또한, 웨이드는 2007-2008 시즌에 214개의 리바운드를, 2008-2009 시즌에는 398개의 리바운드를 기록했으며, 두 시즌 간 리바운드 변화율은 약 85.98%입니다.', type='TextMessage'), TextMessage(id='4eb8c371-8b78-4d12-b9d8-e24425e0aa76', source='DataAnalystAgent', models_usage=RequestUsage(prompt_tokens=1613, completion_tokens=227), metadata={}, created_at=datetime.datetime(2025, 7, 15, 6, 14, 21, 202483, tzinfo=datetime.timezone.utc), content='2006-2007 시즌 마이애미 히트의 최고 득점 선수는 드웨인 웨이드입니다. 또한, 웨이드는 2007-2008 시즌에 214개의 리바운드를, 2008-2009 시즌에는 398개의 리바운드를 기록했으며, 두 시즌 간 리바운드 변화율은 약 85.98%입니다.', type='TextMessage'), TextMessage(id='2179abd9-4fab-4610-af69-6570115f9fdd', source='DataAnalystAgent', models_usage=RequestUsage(prompt_tokens=1704, completion_tokens=192), metadata={}, created_at=datetime.datetime(2025, 7, 15, 6, 14, 26, 208505, tzinfo=datetime.timezone.utc), content='2006-2007 시즌 마이애미 히트의 최고 득점 선수는 드웨인 웨이드입니다. 또한, 웨이드는 2007-2008 시즌에 214개의 리바운드를 기록했고, 2008-2009 시즌에는 398개의 리바운드를 기록했습니다. 이를 바탕으로 두 시즌 간 리바운드 변화율은 약 85.98%로 계산됩니다.', type='TextMessage'), TextMessage(id='c6aa0272-eee7-454a-8b6e-60648e4f217e', source='DataAnalystAgent', models_usage=RequestUsage(prompt_tokens=1802, completion_tokens=170), metadata={}, created_at=datetime.datetime(2025, 7, 15, 6, 14, 32, 106292, tzinfo=datetime.timezone.utc), content='2006-2007 시즌 마이애미 히트의 최고 득점 선수는 드웨인 웨이드입니다. 또한, 웨이드는 2007-2008 시즌에 214개의 리바운드를 기록했고, 2008-2009 시즌에는 398개의 리바운드를 기록했습니다. 이를 바탕으로 두 시즌 간 리바운드 변화율은 약 85.98%로 계산됩니다.', type='TextMessage'), TextMessage(id='d47f9314-d8f1-4476-a61b-0ed7e02f4866', source='DataAnalystAgent', models_usage=RequestUsage(prompt_tokens=1900, completion_tokens=186), metadata={}, created_at=datetime.datetime(2025, 7, 15, 6, 14, 40, 390839, tzinfo=datetime.timezone.utc), content='2006-2007 시즌 마이애미 히트의 최고 득점 선수는 드웨인 웨이드이며, 2007-2008 시즌에 웨이드는 214개의 리바운드를 기록했습니다. 이후, 2008-2009 시즌에는 398개의 리바운드를 기록하여 두 시즌 간 리바운드 변화율이 약 85.98%임을 알 수 있습니다.', type='TextMessage'), TextMessage(id='9e747b6d-ee3c-4ae9-8f7d-0fc902d60089', source='DataAnalystAgent', models_usage=RequestUsage(prompt_tokens=1995, completion_tokens=234), metadata={}, created_at=datetime.datetime(2025, 7, 15, 6, 14, 46, 669342, tzinfo=datetime.timezone.utc), content='2006-2007 시즌 마이애미 히트의 최고 득점 선수는 드웨인 웨이드입니다. 또한, 웨이드는 2007-2008 시즌에 214개의 리바운드를 기록했고, 2008-2009 시즌에는 398개의 리바운드를 기록했습니다. 이를 바탕으로 두 시즌 간 리바운드 변화율은 약 85.98%로 계산됩니다.', type='TextMessage')], stop_reason='Maximum number of messages 25 reached, current message count: 25')"
                        ]
                    },
                    "execution_count": 29,
                    "metadata": {},
                    "output_type": "execute_result"
                }
            ],
            "source": [
                "await Console(team.run_stream(task=task))"
            ]
        },
        {
            "cell_type": "markdown",
            "metadata": {},
            "source": [
                "```{tip}\n",
                "추론 모델을 프롬프트하는 방법에 대한 더 많은 지침은 [OpenAI의 O1 및 O3-mini 추론 모델을 위한 프롬프트 엔지니어링](https://techcommunity.microsoft.com/blog/azure-ai-services-blog/prompt-engineering-for-openai%E2%80%99s-o1-and-o3-mini-reasoning-models/4374010)에 대한 Azure AI Services 블로그를 참조하세요.\n",
                "```"
            ]
        }
    ],
    "metadata": {
        "kernelspec": {
            "display_name": ".venv",
            "language": "python",
            "name": "python3"
        },
        "language_info": {
            "codemirror_mode": {
                "name": "ipython",
                "version": 3
            },
            "file_extension": ".py",
            "mimetype": "text/x-python",
            "name": "python",
            "nbconvert_exporter": "python",
            "pygments_lexer": "ipython3",
            "version": "3.12.11"
        }
    },
    "nbformat": 4,
    "nbformat_minor": 2
}
